{
 "cells": [
  {
   "cell_type": "code",
   "execution_count": 77,
   "id": "cd1dc565-49ce-4bef-bf5b-dc333a9e21d8",
   "metadata": {},
   "outputs": [],
   "source": [
    "import tensorflow as tf\n",
    "from matplotlib import pyplot as plt\n",
    "import numpy as np\n",
    "from tensorflow.keras.optimizers import Adam\n",
    "import pandas as pd\n",
    "import vaex as vx\n",
    "from sklearn.metrics.pairwise import cosine_similarity\n",
    "import requests\n",
    "import shutil\n",
    "from PIL import Image\n",
    "import config"
   ]
  },
  {
   "cell_type": "markdown",
   "id": "728b093e-286d-4ca6-b5b2-8652043b130c",
   "metadata": {},
   "source": [
    "## Preprocessing steps"
   ]
  },
  {
   "cell_type": "code",
   "execution_count": 2,
   "id": "c8fd9d0a-5f59-4c10-8995-d9fc4dd08ad5",
   "metadata": {},
   "outputs": [
    {
     "name": "stdout",
     "output_type": "stream",
     "text": [
      "<class 'pandas.core.frame.DataFrame'>\n",
      "RangeIndex: 27278 entries, 0 to 27277\n",
      "Data columns (total 3 columns):\n",
      " #   Column   Non-Null Count  Dtype  \n",
      "---  ------   --------------  -----  \n",
      " 0   movieId  27278 non-null  int64  \n",
      " 1   imdbId   27278 non-null  int64  \n",
      " 2   tmdbId   27026 non-null  float64\n",
      "dtypes: float64(1), int64(2)\n",
      "memory usage: 639.5 KB\n"
     ]
    }
   ],
   "source": [
    "dfl = pd.read_csv('Data/link.csv')\n",
    "dfl.info()"
   ]
  },
  {
   "cell_type": "code",
   "execution_count": 3,
   "id": "53c37a5a-be9a-4005-b54a-a0e04e49abb5",
   "metadata": {},
   "outputs": [
    {
     "name": "stdout",
     "output_type": "stream",
     "text": [
      "<class 'pandas.core.frame.DataFrame'>\n",
      "Int64Index: 27026 entries, 0 to 27277\n",
      "Data columns (total 3 columns):\n",
      " #   Column   Non-Null Count  Dtype  \n",
      "---  ------   --------------  -----  \n",
      " 0   movieId  27026 non-null  int64  \n",
      " 1   imdbId   27026 non-null  int64  \n",
      " 2   tmdbId   27026 non-null  float64\n",
      "dtypes: float64(1), int64(2)\n",
      "memory usage: 844.6 KB\n"
     ]
    }
   ],
   "source": [
    "dfl.dropna(inplace=True)\n",
    "dfl.info()"
   ]
  },
  {
   "cell_type": "code",
   "execution_count": 4,
   "id": "68e44ab4-754d-4cd8-a691-1c8dbf5f4ee1",
   "metadata": {},
   "outputs": [
    {
     "name": "stdout",
     "output_type": "stream",
     "text": [
      "<class 'pandas.core.frame.DataFrame'>\n",
      "RangeIndex: 27278 entries, 0 to 27277\n",
      "Data columns (total 3 columns):\n",
      " #   Column   Non-Null Count  Dtype \n",
      "---  ------   --------------  ----- \n",
      " 0   movieId  27278 non-null  int64 \n",
      " 1   title    27278 non-null  object\n",
      " 2   genres   27278 non-null  object\n",
      "dtypes: int64(1), object(2)\n",
      "memory usage: 639.5+ KB\n"
     ]
    }
   ],
   "source": [
    "dfm = pd.read_csv('Data/movie.csv')\n",
    "dfm.info()"
   ]
  },
  {
   "cell_type": "code",
   "execution_count": 5,
   "id": "b8daef77-6ead-4069-9982-87bde9296054",
   "metadata": {},
   "outputs": [
    {
     "data": {
      "text/html": [
       "<div>\n",
       "<style scoped>\n",
       "    .dataframe tbody tr th:only-of-type {\n",
       "        vertical-align: middle;\n",
       "    }\n",
       "\n",
       "    .dataframe tbody tr th {\n",
       "        vertical-align: top;\n",
       "    }\n",
       "\n",
       "    .dataframe thead th {\n",
       "        text-align: right;\n",
       "    }\n",
       "</style>\n",
       "<table border=\"1\" class=\"dataframe\">\n",
       "  <thead>\n",
       "    <tr style=\"text-align: right;\">\n",
       "      <th></th>\n",
       "      <th>movieId</th>\n",
       "      <th>title</th>\n",
       "      <th>genres</th>\n",
       "      <th>tmdbId</th>\n",
       "    </tr>\n",
       "  </thead>\n",
       "  <tbody>\n",
       "    <tr>\n",
       "      <th>0</th>\n",
       "      <td>1</td>\n",
       "      <td>Toy Story (1995)</td>\n",
       "      <td>Adventure|Animation|Children|Comedy|Fantasy</td>\n",
       "      <td>862.0</td>\n",
       "    </tr>\n",
       "    <tr>\n",
       "      <th>1</th>\n",
       "      <td>2</td>\n",
       "      <td>Jumanji (1995)</td>\n",
       "      <td>Adventure|Children|Fantasy</td>\n",
       "      <td>8844.0</td>\n",
       "    </tr>\n",
       "    <tr>\n",
       "      <th>2</th>\n",
       "      <td>3</td>\n",
       "      <td>Grumpier Old Men (1995)</td>\n",
       "      <td>Comedy|Romance</td>\n",
       "      <td>15602.0</td>\n",
       "    </tr>\n",
       "    <tr>\n",
       "      <th>3</th>\n",
       "      <td>4</td>\n",
       "      <td>Waiting to Exhale (1995)</td>\n",
       "      <td>Comedy|Drama|Romance</td>\n",
       "      <td>31357.0</td>\n",
       "    </tr>\n",
       "    <tr>\n",
       "      <th>4</th>\n",
       "      <td>5</td>\n",
       "      <td>Father of the Bride Part II (1995)</td>\n",
       "      <td>Comedy</td>\n",
       "      <td>11862.0</td>\n",
       "    </tr>\n",
       "  </tbody>\n",
       "</table>\n",
       "</div>"
      ],
      "text/plain": [
       "   movieId                               title  \\\n",
       "0        1                    Toy Story (1995)   \n",
       "1        2                      Jumanji (1995)   \n",
       "2        3             Grumpier Old Men (1995)   \n",
       "3        4            Waiting to Exhale (1995)   \n",
       "4        5  Father of the Bride Part II (1995)   \n",
       "\n",
       "                                        genres   tmdbId  \n",
       "0  Adventure|Animation|Children|Comedy|Fantasy    862.0  \n",
       "1                   Adventure|Children|Fantasy   8844.0  \n",
       "2                               Comedy|Romance  15602.0  \n",
       "3                         Comedy|Drama|Romance  31357.0  \n",
       "4                                       Comedy  11862.0  "
      ]
     },
     "execution_count": 5,
     "metadata": {},
     "output_type": "execute_result"
    }
   ],
   "source": [
    "df_tmid=dfm.merge(dfl,on='movieId').drop(['imdbId'],axis=1)\n",
    "df_tmid.head()"
   ]
  },
  {
   "cell_type": "code",
   "execution_count": 6,
   "id": "e26a8c95-be3d-4b53-9e03-431c73b3dba9",
   "metadata": {},
   "outputs": [
    {
     "data": {
      "text/html": [
       "<div>\n",
       "<style scoped>\n",
       "    .dataframe tbody tr th:only-of-type {\n",
       "        vertical-align: middle;\n",
       "    }\n",
       "\n",
       "    .dataframe tbody tr th {\n",
       "        vertical-align: top;\n",
       "    }\n",
       "\n",
       "    .dataframe thead th {\n",
       "        text-align: right;\n",
       "    }\n",
       "</style>\n",
       "<table border=\"1\" class=\"dataframe\">\n",
       "  <thead>\n",
       "    <tr style=\"text-align: right;\">\n",
       "      <th></th>\n",
       "      <th>userId</th>\n",
       "      <th>movieId</th>\n",
       "      <th>rating</th>\n",
       "    </tr>\n",
       "  </thead>\n",
       "  <tbody>\n",
       "    <tr>\n",
       "      <th>0</th>\n",
       "      <td>1</td>\n",
       "      <td>2</td>\n",
       "      <td>3.5</td>\n",
       "    </tr>\n",
       "    <tr>\n",
       "      <th>1</th>\n",
       "      <td>1</td>\n",
       "      <td>29</td>\n",
       "      <td>3.5</td>\n",
       "    </tr>\n",
       "    <tr>\n",
       "      <th>2</th>\n",
       "      <td>1</td>\n",
       "      <td>32</td>\n",
       "      <td>3.5</td>\n",
       "    </tr>\n",
       "    <tr>\n",
       "      <th>3</th>\n",
       "      <td>1</td>\n",
       "      <td>47</td>\n",
       "      <td>3.5</td>\n",
       "    </tr>\n",
       "    <tr>\n",
       "      <th>4</th>\n",
       "      <td>1</td>\n",
       "      <td>50</td>\n",
       "      <td>3.5</td>\n",
       "    </tr>\n",
       "  </tbody>\n",
       "</table>\n",
       "</div>"
      ],
      "text/plain": [
       "   userId  movieId  rating\n",
       "0       1        2     3.5\n",
       "1       1       29     3.5\n",
       "2       1       32     3.5\n",
       "3       1       47     3.5\n",
       "4       1       50     3.5"
      ]
     },
     "execution_count": 6,
     "metadata": {},
     "output_type": "execute_result"
    }
   ],
   "source": [
    "dfr = pd.read_csv('Data/rating.csv')\n",
    "dfr.drop(['timestamp'],axis=1,inplace=True)\n",
    "dfr.head()"
   ]
  },
  {
   "cell_type": "code",
   "execution_count": 7,
   "id": "4e8c179b-c8d0-4d4a-9e10-9e4e025a74e2",
   "metadata": {},
   "outputs": [
    {
     "data": {
      "text/html": [
       "<div>\n",
       "<style scoped>\n",
       "    .dataframe tbody tr th:only-of-type {\n",
       "        vertical-align: middle;\n",
       "    }\n",
       "\n",
       "    .dataframe tbody tr th {\n",
       "        vertical-align: top;\n",
       "    }\n",
       "\n",
       "    .dataframe thead th {\n",
       "        text-align: right;\n",
       "    }\n",
       "</style>\n",
       "<table border=\"1\" class=\"dataframe\">\n",
       "  <thead>\n",
       "    <tr style=\"text-align: right;\">\n",
       "      <th></th>\n",
       "      <th>title</th>\n",
       "      <th>genres</th>\n",
       "      <th>tmdbId</th>\n",
       "      <th>userId</th>\n",
       "      <th>rating</th>\n",
       "    </tr>\n",
       "  </thead>\n",
       "  <tbody>\n",
       "    <tr>\n",
       "      <th>0</th>\n",
       "      <td>Toy Story (1995)</td>\n",
       "      <td>Adventure|Animation|Children|Comedy|Fantasy</td>\n",
       "      <td>862.0</td>\n",
       "      <td>3</td>\n",
       "      <td>4.0</td>\n",
       "    </tr>\n",
       "    <tr>\n",
       "      <th>1</th>\n",
       "      <td>Toy Story (1995)</td>\n",
       "      <td>Adventure|Animation|Children|Comedy|Fantasy</td>\n",
       "      <td>862.0</td>\n",
       "      <td>6</td>\n",
       "      <td>5.0</td>\n",
       "    </tr>\n",
       "    <tr>\n",
       "      <th>2</th>\n",
       "      <td>Toy Story (1995)</td>\n",
       "      <td>Adventure|Animation|Children|Comedy|Fantasy</td>\n",
       "      <td>862.0</td>\n",
       "      <td>8</td>\n",
       "      <td>4.0</td>\n",
       "    </tr>\n",
       "    <tr>\n",
       "      <th>3</th>\n",
       "      <td>Toy Story (1995)</td>\n",
       "      <td>Adventure|Animation|Children|Comedy|Fantasy</td>\n",
       "      <td>862.0</td>\n",
       "      <td>10</td>\n",
       "      <td>4.0</td>\n",
       "    </tr>\n",
       "    <tr>\n",
       "      <th>4</th>\n",
       "      <td>Toy Story (1995)</td>\n",
       "      <td>Adventure|Animation|Children|Comedy|Fantasy</td>\n",
       "      <td>862.0</td>\n",
       "      <td>11</td>\n",
       "      <td>4.5</td>\n",
       "    </tr>\n",
       "  </tbody>\n",
       "</table>\n",
       "</div>"
      ],
      "text/plain": [
       "              title                                       genres  tmdbId  \\\n",
       "0  Toy Story (1995)  Adventure|Animation|Children|Comedy|Fantasy   862.0   \n",
       "1  Toy Story (1995)  Adventure|Animation|Children|Comedy|Fantasy   862.0   \n",
       "2  Toy Story (1995)  Adventure|Animation|Children|Comedy|Fantasy   862.0   \n",
       "3  Toy Story (1995)  Adventure|Animation|Children|Comedy|Fantasy   862.0   \n",
       "4  Toy Story (1995)  Adventure|Animation|Children|Comedy|Fantasy   862.0   \n",
       "\n",
       "   userId  rating  \n",
       "0       3     4.0  \n",
       "1       6     5.0  \n",
       "2       8     4.0  \n",
       "3      10     4.0  \n",
       "4      11     4.5  "
      ]
     },
     "execution_count": 7,
     "metadata": {},
     "output_type": "execute_result"
    }
   ],
   "source": [
    "preFinalDf= df_tmid.merge(dfr,on='movieId').drop(['movieId'],axis=1)\n",
    "preFinalDf.head()"
   ]
  },
  {
   "cell_type": "code",
   "execution_count": 8,
   "id": "9a87b656",
   "metadata": {},
   "outputs": [
    {
     "name": "stdout",
     "output_type": "stream",
     "text": [
      "20\n"
     ]
    }
   ],
   "source": [
    "df = preFinalDf['genres']\n",
    "a =[]\n",
    "for i in df.unique():\n",
    "    b=[word for word in i.split('|')]\n",
    "    a.extend(b)\n",
    "    \n",
    "print(len(set(a)))"
   ]
  },
  {
   "cell_type": "code",
   "execution_count": 9,
   "id": "f4575bc8",
   "metadata": {},
   "outputs": [
    {
     "name": "stdout",
     "output_type": "stream",
     "text": [
      "{'Action', 'Horror', 'Musical', 'Crime', 'Comedy', 'Sci-Fi', 'Children', 'War', 'Film-Noir', '(no genres listed)', 'Western', 'IMAX', 'Drama', 'Mystery', 'Documentary', 'Animation', 'Adventure', 'Thriller', 'Fantasy', 'Romance'}\n",
      "CPU times: total: 0 ns\n",
      "Wall time: 0 ns\n"
     ]
    }
   ],
   "source": [
    "%%time\n",
    "print(set(a))"
   ]
  },
  {
   "cell_type": "code",
   "execution_count": 10,
   "id": "a66f8ddb",
   "metadata": {},
   "outputs": [],
   "source": [
    "total_genres = 18 # removed Film-Noir && (no genres listed)"
   ]
  },
  {
   "cell_type": "code",
   "execution_count": 19,
   "id": "9daf1b2d",
   "metadata": {},
   "outputs": [
    {
     "name": "stdout",
     "output_type": "stream",
     "text": [
      "CPU times: total: 3 s\n",
      "Wall time: 3.01 s\n"
     ]
    }
   ],
   "source": [
    "%%time\n",
    "vu=preFinalDf.groupby('userId').count()['rating']>600\n",
    "validUsers= vu[vu].index"
   ]
  },
  {
   "cell_type": "code",
   "execution_count": 20,
   "id": "9e4c4db4",
   "metadata": {},
   "outputs": [
    {
     "data": {
      "text/plain": [
       "(5325,)"
      ]
     },
     "execution_count": 20,
     "metadata": {},
     "output_type": "execute_result"
    }
   ],
   "source": [
    "validUsers.shape"
   ]
  },
  {
   "cell_type": "code",
   "execution_count": 21,
   "id": "754454de",
   "metadata": {},
   "outputs": [
    {
     "data": {
      "text/plain": [
       "(5396026, 5)"
      ]
     },
     "execution_count": 21,
     "metadata": {},
     "output_type": "execute_result"
    }
   ],
   "source": [
    "ppDf = preFinalDf[preFinalDf['userId'].isin(validUsers)]\n",
    "ppDf.shape"
   ]
  },
  {
   "cell_type": "code",
   "execution_count": 22,
   "id": "2a723181",
   "metadata": {},
   "outputs": [],
   "source": [
    "vm=ppDf.groupby('tmdbId').count()['rating']>500\n",
    "validMovie = vm[vm].index"
   ]
  },
  {
   "cell_type": "code",
   "execution_count": 23,
   "id": "c620aea6",
   "metadata": {},
   "outputs": [
    {
     "data": {
      "text/plain": [
       "(2828,)"
      ]
     },
     "execution_count": 23,
     "metadata": {},
     "output_type": "execute_result"
    }
   ],
   "source": [
    "validMovie.shape"
   ]
  },
  {
   "cell_type": "code",
   "execution_count": 24,
   "id": "8561ca1d",
   "metadata": {},
   "outputs": [
    {
     "data": {
      "text/plain": [
       "(4098762, 5)"
      ]
     },
     "execution_count": 24,
     "metadata": {},
     "output_type": "execute_result"
    }
   ],
   "source": [
    "ppDf2 = ppDf[ppDf['tmdbId'].isin(validMovie)]\n",
    "ppDf2.shape"
   ]
  },
  {
   "cell_type": "code",
   "execution_count": 25,
   "id": "a8b1226a",
   "metadata": {},
   "outputs": [
    {
     "name": "stderr",
     "output_type": "stream",
     "text": [
      "C:\\Users\\abhinav kumar\\AppData\\Local\\Temp\\ipykernel_4260\\3672254860.py:1: SettingWithCopyWarning: \n",
      "A value is trying to be set on a copy of a slice from a DataFrame\n",
      "\n",
      "See the caveats in the documentation: https://pandas.pydata.org/pandas-docs/stable/user_guide/indexing.html#returning-a-view-versus-a-copy\n",
      "  ppDf2.drop(['title','genres'],axis=1, inplace=True)\n"
     ]
    },
    {
     "data": {
      "text/html": [
       "<div>\n",
       "<style scoped>\n",
       "    .dataframe tbody tr th:only-of-type {\n",
       "        vertical-align: middle;\n",
       "    }\n",
       "\n",
       "    .dataframe tbody tr th {\n",
       "        vertical-align: top;\n",
       "    }\n",
       "\n",
       "    .dataframe thead th {\n",
       "        text-align: right;\n",
       "    }\n",
       "</style>\n",
       "<table border=\"1\" class=\"dataframe\">\n",
       "  <thead>\n",
       "    <tr style=\"text-align: right;\">\n",
       "      <th></th>\n",
       "      <th>tmdbId</th>\n",
       "      <th>userId</th>\n",
       "      <th>rating</th>\n",
       "    </tr>\n",
       "  </thead>\n",
       "  <tbody>\n",
       "    <tr>\n",
       "      <th>18</th>\n",
       "      <td>862.0</td>\n",
       "      <td>54</td>\n",
       "      <td>4.0</td>\n",
       "    </tr>\n",
       "    <tr>\n",
       "      <th>19</th>\n",
       "      <td>862.0</td>\n",
       "      <td>58</td>\n",
       "      <td>5.0</td>\n",
       "    </tr>\n",
       "    <tr>\n",
       "      <th>27</th>\n",
       "      <td>862.0</td>\n",
       "      <td>91</td>\n",
       "      <td>4.0</td>\n",
       "    </tr>\n",
       "    <tr>\n",
       "      <th>37</th>\n",
       "      <td>862.0</td>\n",
       "      <td>116</td>\n",
       "      <td>3.0</td>\n",
       "    </tr>\n",
       "    <tr>\n",
       "      <th>56</th>\n",
       "      <td>862.0</td>\n",
       "      <td>156</td>\n",
       "      <td>5.0</td>\n",
       "    </tr>\n",
       "  </tbody>\n",
       "</table>\n",
       "</div>"
      ],
      "text/plain": [
       "    tmdbId  userId  rating\n",
       "18   862.0      54     4.0\n",
       "19   862.0      58     5.0\n",
       "27   862.0      91     4.0\n",
       "37   862.0     116     3.0\n",
       "56   862.0     156     5.0"
      ]
     },
     "execution_count": 25,
     "metadata": {},
     "output_type": "execute_result"
    }
   ],
   "source": [
    "ppDf2.drop(['title','genres'],axis=1, inplace=True)\n",
    "ppDf2.head()"
   ]
  },
  {
   "cell_type": "code",
   "execution_count": 26,
   "id": "1ff0d55f-1770-4f28-b67a-60666d668c54",
   "metadata": {},
   "outputs": [
    {
     "data": {
      "text/html": [
       "<div>\n",
       "<style scoped>\n",
       "    .dataframe tbody tr th:only-of-type {\n",
       "        vertical-align: middle;\n",
       "    }\n",
       "\n",
       "    .dataframe tbody tr th {\n",
       "        vertical-align: top;\n",
       "    }\n",
       "\n",
       "    .dataframe thead th {\n",
       "        text-align: right;\n",
       "    }\n",
       "</style>\n",
       "<table border=\"1\" class=\"dataframe\">\n",
       "  <thead>\n",
       "    <tr style=\"text-align: right;\">\n",
       "      <th></th>\n",
       "      <th>tmdbId</th>\n",
       "      <th>userId</th>\n",
       "      <th>rating</th>\n",
       "    </tr>\n",
       "  </thead>\n",
       "  <tbody>\n",
       "    <tr>\n",
       "      <th>18</th>\n",
       "      <td>862</td>\n",
       "      <td>54</td>\n",
       "      <td>4.0</td>\n",
       "    </tr>\n",
       "    <tr>\n",
       "      <th>19</th>\n",
       "      <td>862</td>\n",
       "      <td>58</td>\n",
       "      <td>5.0</td>\n",
       "    </tr>\n",
       "    <tr>\n",
       "      <th>27</th>\n",
       "      <td>862</td>\n",
       "      <td>91</td>\n",
       "      <td>4.0</td>\n",
       "    </tr>\n",
       "    <tr>\n",
       "      <th>37</th>\n",
       "      <td>862</td>\n",
       "      <td>116</td>\n",
       "      <td>3.0</td>\n",
       "    </tr>\n",
       "    <tr>\n",
       "      <th>56</th>\n",
       "      <td>862</td>\n",
       "      <td>156</td>\n",
       "      <td>5.0</td>\n",
       "    </tr>\n",
       "  </tbody>\n",
       "</table>\n",
       "</div>"
      ],
      "text/plain": [
       "    tmdbId  userId  rating\n",
       "18     862      54     4.0\n",
       "19     862      58     5.0\n",
       "27     862      91     4.0\n",
       "37     862     116     3.0\n",
       "56     862     156     5.0"
      ]
     },
     "execution_count": 26,
     "metadata": {},
     "output_type": "execute_result"
    }
   ],
   "source": [
    "ppDf2 = ppDf2.astype({\"tmdbId\": int})\n",
    "ppDf2.head()"
   ]
  },
  {
   "cell_type": "code",
   "execution_count": 27,
   "id": "f934aaee",
   "metadata": {},
   "outputs": [
    {
     "data": {
      "text/html": [
       "<div>\n",
       "<style scoped>\n",
       "    .dataframe tbody tr th:only-of-type {\n",
       "        vertical-align: middle;\n",
       "    }\n",
       "\n",
       "    .dataframe tbody tr th {\n",
       "        vertical-align: top;\n",
       "    }\n",
       "\n",
       "    .dataframe thead th {\n",
       "        text-align: right;\n",
       "    }\n",
       "</style>\n",
       "<table border=\"1\" class=\"dataframe\">\n",
       "  <thead>\n",
       "    <tr style=\"text-align: right;\">\n",
       "      <th>userId</th>\n",
       "      <th>54</th>\n",
       "      <th>58</th>\n",
       "      <th>91</th>\n",
       "      <th>104</th>\n",
       "      <th>116</th>\n",
       "      <th>156</th>\n",
       "      <th>208</th>\n",
       "      <th>247</th>\n",
       "      <th>271</th>\n",
       "      <th>294</th>\n",
       "      <th>...</th>\n",
       "      <th>138211</th>\n",
       "      <th>138254</th>\n",
       "      <th>138270</th>\n",
       "      <th>138301</th>\n",
       "      <th>138307</th>\n",
       "      <th>138325</th>\n",
       "      <th>138382</th>\n",
       "      <th>138397</th>\n",
       "      <th>138406</th>\n",
       "      <th>138437</th>\n",
       "    </tr>\n",
       "    <tr>\n",
       "      <th>tmdbId</th>\n",
       "      <th></th>\n",
       "      <th></th>\n",
       "      <th></th>\n",
       "      <th></th>\n",
       "      <th></th>\n",
       "      <th></th>\n",
       "      <th></th>\n",
       "      <th></th>\n",
       "      <th></th>\n",
       "      <th></th>\n",
       "      <th></th>\n",
       "      <th></th>\n",
       "      <th></th>\n",
       "      <th></th>\n",
       "      <th></th>\n",
       "      <th></th>\n",
       "      <th></th>\n",
       "      <th></th>\n",
       "      <th></th>\n",
       "      <th></th>\n",
       "      <th></th>\n",
       "    </tr>\n",
       "  </thead>\n",
       "  <tbody>\n",
       "    <tr>\n",
       "      <th>5</th>\n",
       "      <td>3.0</td>\n",
       "      <td>NaN</td>\n",
       "      <td>NaN</td>\n",
       "      <td>NaN</td>\n",
       "      <td>NaN</td>\n",
       "      <td>3.0</td>\n",
       "      <td>NaN</td>\n",
       "      <td>NaN</td>\n",
       "      <td>NaN</td>\n",
       "      <td>NaN</td>\n",
       "      <td>...</td>\n",
       "      <td>NaN</td>\n",
       "      <td>4.5</td>\n",
       "      <td>NaN</td>\n",
       "      <td>NaN</td>\n",
       "      <td>1.0</td>\n",
       "      <td>NaN</td>\n",
       "      <td>NaN</td>\n",
       "      <td>NaN</td>\n",
       "      <td>NaN</td>\n",
       "      <td>NaN</td>\n",
       "    </tr>\n",
       "    <tr>\n",
       "      <th>11</th>\n",
       "      <td>4.0</td>\n",
       "      <td>NaN</td>\n",
       "      <td>4.5</td>\n",
       "      <td>3.0</td>\n",
       "      <td>4.5</td>\n",
       "      <td>NaN</td>\n",
       "      <td>4.5</td>\n",
       "      <td>4.0</td>\n",
       "      <td>2.5</td>\n",
       "      <td>4.0</td>\n",
       "      <td>...</td>\n",
       "      <td>4.0</td>\n",
       "      <td>4.5</td>\n",
       "      <td>4.0</td>\n",
       "      <td>3.5</td>\n",
       "      <td>2.0</td>\n",
       "      <td>5.0</td>\n",
       "      <td>4.0</td>\n",
       "      <td>3.5</td>\n",
       "      <td>4.0</td>\n",
       "      <td>5.0</td>\n",
       "    </tr>\n",
       "    <tr>\n",
       "      <th>12</th>\n",
       "      <td>NaN</td>\n",
       "      <td>NaN</td>\n",
       "      <td>4.0</td>\n",
       "      <td>NaN</td>\n",
       "      <td>3.0</td>\n",
       "      <td>NaN</td>\n",
       "      <td>3.5</td>\n",
       "      <td>NaN</td>\n",
       "      <td>2.5</td>\n",
       "      <td>4.5</td>\n",
       "      <td>...</td>\n",
       "      <td>4.5</td>\n",
       "      <td>4.0</td>\n",
       "      <td>NaN</td>\n",
       "      <td>3.5</td>\n",
       "      <td>NaN</td>\n",
       "      <td>4.0</td>\n",
       "      <td>NaN</td>\n",
       "      <td>NaN</td>\n",
       "      <td>4.0</td>\n",
       "      <td>4.0</td>\n",
       "    </tr>\n",
       "    <tr>\n",
       "      <th>13</th>\n",
       "      <td>5.0</td>\n",
       "      <td>4.5</td>\n",
       "      <td>4.0</td>\n",
       "      <td>NaN</td>\n",
       "      <td>4.0</td>\n",
       "      <td>5.0</td>\n",
       "      <td>1.0</td>\n",
       "      <td>4.0</td>\n",
       "      <td>3.5</td>\n",
       "      <td>4.5</td>\n",
       "      <td>...</td>\n",
       "      <td>5.0</td>\n",
       "      <td>4.0</td>\n",
       "      <td>4.0</td>\n",
       "      <td>3.5</td>\n",
       "      <td>NaN</td>\n",
       "      <td>4.5</td>\n",
       "      <td>5.0</td>\n",
       "      <td>4.5</td>\n",
       "      <td>4.0</td>\n",
       "      <td>NaN</td>\n",
       "    </tr>\n",
       "    <tr>\n",
       "      <th>14</th>\n",
       "      <td>5.0</td>\n",
       "      <td>4.5</td>\n",
       "      <td>4.5</td>\n",
       "      <td>2.0</td>\n",
       "      <td>4.5</td>\n",
       "      <td>5.0</td>\n",
       "      <td>3.5</td>\n",
       "      <td>4.0</td>\n",
       "      <td>NaN</td>\n",
       "      <td>3.5</td>\n",
       "      <td>...</td>\n",
       "      <td>5.0</td>\n",
       "      <td>4.0</td>\n",
       "      <td>5.0</td>\n",
       "      <td>5.0</td>\n",
       "      <td>4.0</td>\n",
       "      <td>5.0</td>\n",
       "      <td>3.0</td>\n",
       "      <td>4.0</td>\n",
       "      <td>4.0</td>\n",
       "      <td>5.0</td>\n",
       "    </tr>\n",
       "  </tbody>\n",
       "</table>\n",
       "<p>5 rows × 5325 columns</p>\n",
       "</div>"
      ],
      "text/plain": [
       "userId  54      58      91      104     116     156     208     247     \\\n",
       "tmdbId                                                                   \n",
       "5          3.0     NaN     NaN     NaN     NaN     3.0     NaN     NaN   \n",
       "11         4.0     NaN     4.5     3.0     4.5     NaN     4.5     4.0   \n",
       "12         NaN     NaN     4.0     NaN     3.0     NaN     3.5     NaN   \n",
       "13         5.0     4.5     4.0     NaN     4.0     5.0     1.0     4.0   \n",
       "14         5.0     4.5     4.5     2.0     4.5     5.0     3.5     4.0   \n",
       "\n",
       "userId  271     294     ...  138211  138254  138270  138301  138307  138325  \\\n",
       "tmdbId                  ...                                                   \n",
       "5          NaN     NaN  ...     NaN     4.5     NaN     NaN     1.0     NaN   \n",
       "11         2.5     4.0  ...     4.0     4.5     4.0     3.5     2.0     5.0   \n",
       "12         2.5     4.5  ...     4.5     4.0     NaN     3.5     NaN     4.0   \n",
       "13         3.5     4.5  ...     5.0     4.0     4.0     3.5     NaN     4.5   \n",
       "14         NaN     3.5  ...     5.0     4.0     5.0     5.0     4.0     5.0   \n",
       "\n",
       "userId  138382  138397  138406  138437  \n",
       "tmdbId                                  \n",
       "5          NaN     NaN     NaN     NaN  \n",
       "11         4.0     3.5     4.0     5.0  \n",
       "12         NaN     NaN     4.0     4.0  \n",
       "13         5.0     4.5     4.0     NaN  \n",
       "14         3.0     4.0     4.0     5.0  \n",
       "\n",
       "[5 rows x 5325 columns]"
      ]
     },
     "execution_count": 27,
     "metadata": {},
     "output_type": "execute_result"
    }
   ],
   "source": [
    "finalDf = ppDf2.pivot_table(index='tmdbId',columns='userId',values='rating')\n",
    "finalDf.head()"
   ]
  },
  {
   "cell_type": "code",
   "execution_count": 28,
   "id": "13e03dfc",
   "metadata": {},
   "outputs": [
    {
     "data": {
      "text/plain": [
       "(2828, 5325)"
      ]
     },
     "execution_count": 28,
     "metadata": {},
     "output_type": "execute_result"
    }
   ],
   "source": [
    "finalDf.fillna(0,inplace=True)\n",
    "finalDf.shape"
   ]
  },
  {
   "cell_type": "code",
   "execution_count": 29,
   "id": "aa207038-b505-4970-a1f7-4f9f95c73eca",
   "metadata": {},
   "outputs": [
    {
     "data": {
      "text/html": [
       "<div>\n",
       "<style scoped>\n",
       "    .dataframe tbody tr th:only-of-type {\n",
       "        vertical-align: middle;\n",
       "    }\n",
       "\n",
       "    .dataframe tbody tr th {\n",
       "        vertical-align: top;\n",
       "    }\n",
       "\n",
       "    .dataframe thead th {\n",
       "        text-align: right;\n",
       "    }\n",
       "</style>\n",
       "<table border=\"1\" class=\"dataframe\">\n",
       "  <thead>\n",
       "    <tr style=\"text-align: right;\">\n",
       "      <th>userId</th>\n",
       "      <th>54</th>\n",
       "      <th>58</th>\n",
       "      <th>91</th>\n",
       "      <th>104</th>\n",
       "      <th>116</th>\n",
       "      <th>156</th>\n",
       "      <th>208</th>\n",
       "      <th>247</th>\n",
       "      <th>271</th>\n",
       "      <th>294</th>\n",
       "      <th>...</th>\n",
       "      <th>138211</th>\n",
       "      <th>138254</th>\n",
       "      <th>138270</th>\n",
       "      <th>138301</th>\n",
       "      <th>138307</th>\n",
       "      <th>138325</th>\n",
       "      <th>138382</th>\n",
       "      <th>138397</th>\n",
       "      <th>138406</th>\n",
       "      <th>138437</th>\n",
       "    </tr>\n",
       "    <tr>\n",
       "      <th>tmdbId</th>\n",
       "      <th></th>\n",
       "      <th></th>\n",
       "      <th></th>\n",
       "      <th></th>\n",
       "      <th></th>\n",
       "      <th></th>\n",
       "      <th></th>\n",
       "      <th></th>\n",
       "      <th></th>\n",
       "      <th></th>\n",
       "      <th></th>\n",
       "      <th></th>\n",
       "      <th></th>\n",
       "      <th></th>\n",
       "      <th></th>\n",
       "      <th></th>\n",
       "      <th></th>\n",
       "      <th></th>\n",
       "      <th></th>\n",
       "      <th></th>\n",
       "      <th></th>\n",
       "    </tr>\n",
       "  </thead>\n",
       "  <tbody>\n",
       "    <tr>\n",
       "      <th>5</th>\n",
       "      <td>3.0</td>\n",
       "      <td>0.0</td>\n",
       "      <td>0.0</td>\n",
       "      <td>0.0</td>\n",
       "      <td>0.0</td>\n",
       "      <td>3.0</td>\n",
       "      <td>0.0</td>\n",
       "      <td>0.0</td>\n",
       "      <td>0.0</td>\n",
       "      <td>0.0</td>\n",
       "      <td>...</td>\n",
       "      <td>0.0</td>\n",
       "      <td>4.5</td>\n",
       "      <td>0.0</td>\n",
       "      <td>0.0</td>\n",
       "      <td>1.0</td>\n",
       "      <td>0.0</td>\n",
       "      <td>0.0</td>\n",
       "      <td>0.0</td>\n",
       "      <td>0.0</td>\n",
       "      <td>0.0</td>\n",
       "    </tr>\n",
       "    <tr>\n",
       "      <th>11</th>\n",
       "      <td>4.0</td>\n",
       "      <td>0.0</td>\n",
       "      <td>4.5</td>\n",
       "      <td>3.0</td>\n",
       "      <td>4.5</td>\n",
       "      <td>0.0</td>\n",
       "      <td>4.5</td>\n",
       "      <td>4.0</td>\n",
       "      <td>2.5</td>\n",
       "      <td>4.0</td>\n",
       "      <td>...</td>\n",
       "      <td>4.0</td>\n",
       "      <td>4.5</td>\n",
       "      <td>4.0</td>\n",
       "      <td>3.5</td>\n",
       "      <td>2.0</td>\n",
       "      <td>5.0</td>\n",
       "      <td>4.0</td>\n",
       "      <td>3.5</td>\n",
       "      <td>4.0</td>\n",
       "      <td>5.0</td>\n",
       "    </tr>\n",
       "    <tr>\n",
       "      <th>12</th>\n",
       "      <td>0.0</td>\n",
       "      <td>0.0</td>\n",
       "      <td>4.0</td>\n",
       "      <td>0.0</td>\n",
       "      <td>3.0</td>\n",
       "      <td>0.0</td>\n",
       "      <td>3.5</td>\n",
       "      <td>0.0</td>\n",
       "      <td>2.5</td>\n",
       "      <td>4.5</td>\n",
       "      <td>...</td>\n",
       "      <td>4.5</td>\n",
       "      <td>4.0</td>\n",
       "      <td>0.0</td>\n",
       "      <td>3.5</td>\n",
       "      <td>0.0</td>\n",
       "      <td>4.0</td>\n",
       "      <td>0.0</td>\n",
       "      <td>0.0</td>\n",
       "      <td>4.0</td>\n",
       "      <td>4.0</td>\n",
       "    </tr>\n",
       "    <tr>\n",
       "      <th>13</th>\n",
       "      <td>5.0</td>\n",
       "      <td>4.5</td>\n",
       "      <td>4.0</td>\n",
       "      <td>0.0</td>\n",
       "      <td>4.0</td>\n",
       "      <td>5.0</td>\n",
       "      <td>1.0</td>\n",
       "      <td>4.0</td>\n",
       "      <td>3.5</td>\n",
       "      <td>4.5</td>\n",
       "      <td>...</td>\n",
       "      <td>5.0</td>\n",
       "      <td>4.0</td>\n",
       "      <td>4.0</td>\n",
       "      <td>3.5</td>\n",
       "      <td>0.0</td>\n",
       "      <td>4.5</td>\n",
       "      <td>5.0</td>\n",
       "      <td>4.5</td>\n",
       "      <td>4.0</td>\n",
       "      <td>0.0</td>\n",
       "    </tr>\n",
       "    <tr>\n",
       "      <th>14</th>\n",
       "      <td>5.0</td>\n",
       "      <td>4.5</td>\n",
       "      <td>4.5</td>\n",
       "      <td>2.0</td>\n",
       "      <td>4.5</td>\n",
       "      <td>5.0</td>\n",
       "      <td>3.5</td>\n",
       "      <td>4.0</td>\n",
       "      <td>0.0</td>\n",
       "      <td>3.5</td>\n",
       "      <td>...</td>\n",
       "      <td>5.0</td>\n",
       "      <td>4.0</td>\n",
       "      <td>5.0</td>\n",
       "      <td>5.0</td>\n",
       "      <td>4.0</td>\n",
       "      <td>5.0</td>\n",
       "      <td>3.0</td>\n",
       "      <td>4.0</td>\n",
       "      <td>4.0</td>\n",
       "      <td>5.0</td>\n",
       "    </tr>\n",
       "  </tbody>\n",
       "</table>\n",
       "<p>5 rows × 5325 columns</p>\n",
       "</div>"
      ],
      "text/plain": [
       "userId  54      58      91      104     116     156     208     247     \\\n",
       "tmdbId                                                                   \n",
       "5          3.0     0.0     0.0     0.0     0.0     3.0     0.0     0.0   \n",
       "11         4.0     0.0     4.5     3.0     4.5     0.0     4.5     4.0   \n",
       "12         0.0     0.0     4.0     0.0     3.0     0.0     3.5     0.0   \n",
       "13         5.0     4.5     4.0     0.0     4.0     5.0     1.0     4.0   \n",
       "14         5.0     4.5     4.5     2.0     4.5     5.0     3.5     4.0   \n",
       "\n",
       "userId  271     294     ...  138211  138254  138270  138301  138307  138325  \\\n",
       "tmdbId                  ...                                                   \n",
       "5          0.0     0.0  ...     0.0     4.5     0.0     0.0     1.0     0.0   \n",
       "11         2.5     4.0  ...     4.0     4.5     4.0     3.5     2.0     5.0   \n",
       "12         2.5     4.5  ...     4.5     4.0     0.0     3.5     0.0     4.0   \n",
       "13         3.5     4.5  ...     5.0     4.0     4.0     3.5     0.0     4.5   \n",
       "14         0.0     3.5  ...     5.0     4.0     5.0     5.0     4.0     5.0   \n",
       "\n",
       "userId  138382  138397  138406  138437  \n",
       "tmdbId                                  \n",
       "5          0.0     0.0     0.0     0.0  \n",
       "11         4.0     3.5     4.0     5.0  \n",
       "12         0.0     0.0     4.0     4.0  \n",
       "13         5.0     4.5     4.0     0.0  \n",
       "14         3.0     4.0     4.0     5.0  \n",
       "\n",
       "[5 rows x 5325 columns]"
      ]
     },
     "execution_count": 29,
     "metadata": {},
     "output_type": "execute_result"
    }
   ],
   "source": [
    "finalDf.head()"
   ]
  },
  {
   "cell_type": "code",
   "execution_count": 30,
   "id": "4250c2db",
   "metadata": {},
   "outputs": [],
   "source": [
    "finalDf.to_csv('recomderData.csv')"
   ]
  },
  {
   "cell_type": "code",
   "execution_count": 37,
   "id": "c677548e-49d2-4306-83af-dd62a54d8f91",
   "metadata": {},
   "outputs": [],
   "source": [
    "vax_df = vx.from_pandas(finalDf)"
   ]
  },
  {
   "cell_type": "code",
   "execution_count": 38,
   "id": "de829ba0-a881-459a-a7da-17f5422bc788",
   "metadata": {},
   "outputs": [],
   "source": [
    "vax_df.export_hdf5('recomderData.hdf5')"
   ]
  },
  {
   "cell_type": "code",
   "execution_count": 39,
   "id": "93601798-7714-4d1b-9ac7-ef7d3b27ab15",
   "metadata": {},
   "outputs": [
    {
     "name": "stdout",
     "output_type": "stream",
     "text": [
      "CPU times: total: 2.41 s\n",
      "Wall time: 2.59 s\n"
     ]
    },
    {
     "data": {
      "text/html": [
       "<table>\n",
       "<thead>\n",
       "<tr><th>#                                </th><th>54  </th><th>58  </th><th>91  </th><th>104  </th><th>116  </th><th>156  </th><th>208  </th><th>247  </th><th>271  </th><th>294  </th><th>298  </th><th>347  </th><th>348  </th><th>359  </th><th>367  </th><th>370  </th><th>388  </th><th>394  </th><th>413  </th><th>424  </th><th>572  </th><th>586  </th><th>587  </th><th>609  </th><th>614  </th><th>631  </th><th>632  </th><th>637  </th><th>648  </th><th>702  </th><th>710  </th><th>717  </th><th>741  </th><th>768  </th><th>775  </th><th>777  </th><th>812  </th><th>856  </th><th>903  </th><th>910  </th><th>955  </th><th>971  </th><th>982  </th><th>1011  </th><th>1052  </th><th>1113  </th><th>1165  </th><th>1185  </th><th>1200  </th><th>1244  </th><th>1296  </th><th>1323  </th><th>1411  </th><th>1419  </th><th>1421  </th><th>1507  </th><th>1516  </th><th>1560  </th><th>1568  </th><th>1588  </th><th>1602  </th><th>1644  </th><th>1678  </th><th>1715  </th><th>1729  </th><th>1741  </th><th>1748  </th><th>1755  </th><th>1763  </th><th>1849  </th><th>1854  </th><th>1864  </th><th>1887  </th><th>1906  </th><th>1908  </th><th>1931  </th><th>1942  </th><th>1966  </th><th>1972  </th><th>2024  </th><th>2038  </th><th>2047  </th><th>2071  </th><th>2072  </th><th>2099  </th><th>2113  </th><th>2158  </th><th>2161  </th><th>2171  </th><th>2232  </th><th>2242  </th><th>2261  </th><th>2311  </th><th>2344  </th><th>2349  </th><th>2352  </th><th>2374  </th><th>2378  </th><th>2397  </th><th>2398  </th><th>...  </th><th>135808  </th><th>135819  </th><th>135828  </th><th>135888  </th><th>135976  </th><th>135984  </th><th>135993  </th><th>136015  </th><th>136053  </th><th>136054  </th><th>136082  </th><th>136132  </th><th>136151  </th><th>136187  </th><th>136223  </th><th>136262  </th><th>136268  </th><th>136293  </th><th>136301  </th><th>136426  </th><th>136479  </th><th>136521  </th><th>136564  </th><th>136568  </th><th>136578  </th><th>136595  </th><th>136599  </th><th>136673  </th><th>136679  </th><th>136684  </th><th>136754  </th><th>136806  </th><th>136819  </th><th>136860  </th><th>136875  </th><th>136877  </th><th>136896  </th><th>136897  </th><th>136940  </th><th>136941  </th><th>136946  </th><th>136957  </th><th>136989  </th><th>136997  </th><th>137015  </th><th>137031  </th><th>137037  </th><th>137130  </th><th>137164  </th><th>137202  </th><th>137277  </th><th>137280  </th><th>137342  </th><th>137343  </th><th>137366  </th><th>137369  </th><th>137377  </th><th>137387  </th><th>137417  </th><th>137501  </th><th>137525  </th><th>137558  </th><th>137563  </th><th>137683  </th><th>137686  </th><th>137717  </th><th>137746  </th><th>137805  </th><th>137807  </th><th>137838  </th><th>137839  </th><th>137854  </th><th>137869  </th><th>137885  </th><th>137893  </th><th>137934  </th><th>137949  </th><th>137976  </th><th>137977  </th><th>137993  </th><th>138019  </th><th>138072  </th><th>138103  </th><th>138134  </th><th>138146  </th><th>138148  </th><th>138162  </th><th>138164  </th><th>138200  </th><th>138208  </th><th>138211  </th><th>138254  </th><th>138270  </th><th>138301  </th><th>138307  </th><th>138325  </th><th>138382  </th><th>138397  </th><th>138406  </th><th style=\"text-align: right;\">  138437</th></tr>\n",
       "</thead>\n",
       "<tbody>\n",
       "<tr><td><i style='opacity: 0.6'>0</i>    </td><td>3.0 </td><td>0.0 </td><td>0.0 </td><td>0.0  </td><td>0.0  </td><td>3.0  </td><td>0.0  </td><td>0.0  </td><td>0.0  </td><td>0.0  </td><td>3.0  </td><td>0.0  </td><td>0.0  </td><td>0.0  </td><td>0.0  </td><td>0.0  </td><td>0.0  </td><td>0.0  </td><td>2.5  </td><td>0.0  </td><td>0.0  </td><td>3.5  </td><td>2.0  </td><td>0.0  </td><td>3.5  </td><td>0.0  </td><td>0.0  </td><td>0.0  </td><td>0.0  </td><td>0.0  </td><td>0.0  </td><td>0.0  </td><td>0.0  </td><td>0.0  </td><td>3.5  </td><td>4.0  </td><td>1.5  </td><td>0.0  </td><td>2.0  </td><td>0.0  </td><td>3.0  </td><td>0.0  </td><td>4.0  </td><td>0.0   </td><td>0.0   </td><td>0.0   </td><td>2.5   </td><td>0.0   </td><td>0.0   </td><td>3.5   </td><td>3.0   </td><td>0.0   </td><td>0.0   </td><td>4.0   </td><td>0.0   </td><td>4.0   </td><td>0.0   </td><td>0.0   </td><td>0.0   </td><td>0.0   </td><td>0.0   </td><td>0.0   </td><td>0.0   </td><td>3.0   </td><td>0.0   </td><td>0.0   </td><td>3.5   </td><td>0.0   </td><td>4.0   </td><td>0.0   </td><td>0.0   </td><td>0.0   </td><td>0.0   </td><td>0.0   </td><td>2.0   </td><td>4.0   </td><td>4.0   </td><td>0.0   </td><td>0.0   </td><td>0.0   </td><td>0.0   </td><td>0.0   </td><td>0.0   </td><td>0.0   </td><td>4.0   </td><td>0.0   </td><td>0.0   </td><td>0.0   </td><td>0.0   </td><td>3.5   </td><td>0.0   </td><td>2.0   </td><td>0.0   </td><td>5.0   </td><td>0.0   </td><td>0.0   </td><td>0.0   </td><td>0.0   </td><td>0.0   </td><td>4.0   </td><td>...  </td><td>0.0     </td><td>0.0     </td><td>4.0     </td><td>0.0     </td><td>4.0     </td><td>0.0     </td><td>0.0     </td><td>0.0     </td><td>0.0     </td><td>0.0     </td><td>4.0     </td><td>0.0     </td><td>0.0     </td><td>0.0     </td><td>0.0     </td><td>0.0     </td><td>0.0     </td><td>3.0     </td><td>0.0     </td><td>0.0     </td><td>0.0     </td><td>0.0     </td><td>0.0     </td><td>0.0     </td><td>0.0     </td><td>0.0     </td><td>0.0     </td><td>0.0     </td><td>0.0     </td><td>0.0     </td><td>0.0     </td><td>3.5     </td><td>1.5     </td><td>0.0     </td><td>4.0     </td><td>0.0     </td><td>0.0     </td><td>0.0     </td><td>0.0     </td><td>0.0     </td><td>0.0     </td><td>4.0     </td><td>0.0     </td><td>0.0     </td><td>0.0     </td><td>3.5     </td><td>4.0     </td><td>0.0     </td><td>0.0     </td><td>0.0     </td><td>3.0     </td><td>0.0     </td><td>0.0     </td><td>1.0     </td><td>0.0     </td><td>5.0     </td><td>3.5     </td><td>4.0     </td><td>0.0     </td><td>0.0     </td><td>0.0     </td><td>2.0     </td><td>2.0     </td><td>0.0     </td><td>3.0     </td><td>0.0     </td><td>0.0     </td><td>0.0     </td><td>3.5     </td><td>0.0     </td><td>0.0     </td><td>0.0     </td><td>0.0     </td><td>1.0     </td><td>0.0     </td><td>0.0     </td><td>0.0     </td><td>1.0     </td><td>0.0     </td><td>0.0     </td><td>0.0     </td><td>2.5     </td><td>0.0     </td><td>0.0     </td><td>0.0     </td><td>3.0     </td><td>0.0     </td><td>4.0     </td><td>0.0     </td><td>1.0     </td><td>0.0     </td><td>4.5     </td><td>0.0     </td><td>0.0     </td><td>1.0     </td><td>0.0     </td><td>0.0     </td><td>0.0     </td><td>0.0     </td><td style=\"text-align: right;\">       0</td></tr>\n",
       "<tr><td><i style='opacity: 0.6'>1</i>    </td><td>4.0 </td><td>0.0 </td><td>4.5 </td><td>3.0  </td><td>4.5  </td><td>0.0  </td><td>4.5  </td><td>4.0  </td><td>2.5  </td><td>4.0  </td><td>5.0  </td><td>4.0  </td><td>0.0  </td><td>5.0  </td><td>4.0  </td><td>0.0  </td><td>3.0  </td><td>4.0  </td><td>5.0  </td><td>3.5  </td><td>0.0  </td><td>3.5  </td><td>4.0  </td><td>4.5  </td><td>4.0  </td><td>4.5  </td><td>3.0  </td><td>4.0  </td><td>2.0  </td><td>4.5  </td><td>5.0  </td><td>4.0  </td><td>5.0  </td><td>4.5  </td><td>5.0  </td><td>2.0  </td><td>4.0  </td><td>0.0  </td><td>5.0  </td><td>4.5  </td><td>4.0  </td><td>5.0  </td><td>4.0  </td><td>5.0   </td><td>4.5   </td><td>0.0   </td><td>4.0   </td><td>4.5   </td><td>5.0   </td><td>5.0   </td><td>5.0   </td><td>5.0   </td><td>4.0   </td><td>4.0   </td><td>4.0   </td><td>4.0   </td><td>4.0   </td><td>5.0   </td><td>2.5   </td><td>4.5   </td><td>0.0   </td><td>4.0   </td><td>3.5   </td><td>4.0   </td><td>3.0   </td><td>4.0   </td><td>4.0   </td><td>4.0   </td><td>4.0   </td><td>4.5   </td><td>4.0   </td><td>4.0   </td><td>3.5   </td><td>5.0   </td><td>3.0   </td><td>0.0   </td><td>5.0   </td><td>4.0   </td><td>5.0   </td><td>4.0   </td><td>4.5   </td><td>4.0   </td><td>4.0   </td><td>4.0   </td><td>4.5   </td><td>2.0   </td><td>4.0   </td><td>4.5   </td><td>5.0   </td><td>4.5   </td><td>4.0   </td><td>5.0   </td><td>5.0   </td><td>5.0   </td><td>5.0   </td><td>2.5   </td><td>3.0   </td><td>5.0   </td><td>4.0   </td><td>4.0   </td><td>...  </td><td>4.0     </td><td>0.5     </td><td>3.5     </td><td>0.0     </td><td>5.0     </td><td>1.0     </td><td>4.5     </td><td>0.0     </td><td>3.5     </td><td>4.5     </td><td>5.0     </td><td>5.0     </td><td>4.0     </td><td>3.0     </td><td>0.0     </td><td>5.0     </td><td>4.0     </td><td>4.5     </td><td>4.0     </td><td>4.0     </td><td>2.0     </td><td>5.0     </td><td>4.0     </td><td>5.0     </td><td>0.0     </td><td>4.5     </td><td>4.0     </td><td>4.5     </td><td>0.0     </td><td>0.0     </td><td>4.0     </td><td>4.5     </td><td>0.0     </td><td>5.0     </td><td>4.0     </td><td>5.0     </td><td>5.0     </td><td>4.0     </td><td>5.0     </td><td>2.0     </td><td>3.5     </td><td>5.0     </td><td>5.0     </td><td>5.0     </td><td>5.0     </td><td>4.0     </td><td>5.0     </td><td>5.0     </td><td>4.0     </td><td>4.5     </td><td>4.0     </td><td>0.0     </td><td>5.0     </td><td>5.0     </td><td>4.0     </td><td>5.0     </td><td>3.0     </td><td>4.0     </td><td>4.0     </td><td>5.0     </td><td>3.5     </td><td>3.0     </td><td>5.0     </td><td>4.0     </td><td>5.0     </td><td>3.5     </td><td>4.0     </td><td>4.0     </td><td>4.0     </td><td>4.0     </td><td>5.0     </td><td>4.5     </td><td>5.0     </td><td>4.0     </td><td>4.0     </td><td>5.0     </td><td>3.0     </td><td>4.0     </td><td>4.0     </td><td>4.5     </td><td>5.0     </td><td>4.0     </td><td>4.0     </td><td>5.0     </td><td>0.0     </td><td>3.0     </td><td>5.0     </td><td>3.5     </td><td>0.0     </td><td>3.0     </td><td>4.0     </td><td>4.5     </td><td>4.0     </td><td>3.5     </td><td>2.0     </td><td>5.0     </td><td>4.0     </td><td>3.5     </td><td>4.0     </td><td style=\"text-align: right;\">       5</td></tr>\n",
       "<tr><td><i style='opacity: 0.6'>2</i>    </td><td>0.0 </td><td>0.0 </td><td>4.0 </td><td>0.0  </td><td>3.0  </td><td>0.0  </td><td>3.5  </td><td>0.0  </td><td>2.5  </td><td>4.5  </td><td>0.0  </td><td>3.5  </td><td>4.5  </td><td>3.0  </td><td>0.0  </td><td>2.5  </td><td>0.0  </td><td>0.0  </td><td>4.0  </td><td>4.5  </td><td>4.0  </td><td>0.0  </td><td>4.5  </td><td>3.0  </td><td>3.5  </td><td>4.0  </td><td>0.0  </td><td>3.5  </td><td>0.0  </td><td>4.0  </td><td>4.5  </td><td>0.0  </td><td>4.0  </td><td>0.0  </td><td>5.0  </td><td>4.0  </td><td>3.5  </td><td>0.0  </td><td>0.0  </td><td>4.0  </td><td>0.0  </td><td>0.0  </td><td>0.0  </td><td>5.0   </td><td>0.0   </td><td>4.0   </td><td>0.0   </td><td>4.0   </td><td>4.0   </td><td>4.0   </td><td>0.0   </td><td>4.0   </td><td>4.5   </td><td>4.5   </td><td>4.0   </td><td>3.5   </td><td>0.0   </td><td>5.0   </td><td>3.0   </td><td>4.0   </td><td>4.5   </td><td>4.0   </td><td>4.5   </td><td>4.0   </td><td>0.0   </td><td>2.5   </td><td>4.5   </td><td>4.5   </td><td>4.0   </td><td>4.5   </td><td>4.0   </td><td>0.0   </td><td>4.5   </td><td>4.5   </td><td>4.5   </td><td>0.0   </td><td>0.0   </td><td>4.0   </td><td>0.0   </td><td>4.0   </td><td>4.5   </td><td>5.0   </td><td>3.5   </td><td>3.0   </td><td>4.5   </td><td>0.0   </td><td>4.5   </td><td>5.0   </td><td>4.0   </td><td>3.5   </td><td>0.0   </td><td>4.0   </td><td>0.0   </td><td>1.5   </td><td>5.0   </td><td>1.5   </td><td>0.0   </td><td>0.0   </td><td>4.0   </td><td>0.0   </td><td>...  </td><td>4.5     </td><td>0.0     </td><td>3.0     </td><td>0.0     </td><td>4.5     </td><td>4.5     </td><td>4.5     </td><td>4.0     </td><td>2.5     </td><td>0.0     </td><td>5.0     </td><td>4.5     </td><td>0.0     </td><td>4.5     </td><td>4.5     </td><td>5.0     </td><td>3.5     </td><td>0.0     </td><td>4.0     </td><td>4.0     </td><td>4.0     </td><td>3.5     </td><td>4.0     </td><td>0.0     </td><td>0.0     </td><td>3.0     </td><td>4.0     </td><td>3.5     </td><td>0.0     </td><td>4.0     </td><td>4.0     </td><td>0.0     </td><td>4.5     </td><td>3.0     </td><td>3.5     </td><td>5.0     </td><td>0.0     </td><td>4.0     </td><td>0.0     </td><td>0.0     </td><td>3.0     </td><td>4.5     </td><td>1.0     </td><td>0.0     </td><td>3.5     </td><td>1.5     </td><td>0.0     </td><td>4.0     </td><td>4.0     </td><td>4.0     </td><td>4.0     </td><td>0.0     </td><td>0.0     </td><td>5.0     </td><td>0.0     </td><td>0.0     </td><td>4.5     </td><td>0.0     </td><td>5.0     </td><td>0.0     </td><td>4.0     </td><td>0.0     </td><td>0.0     </td><td>4.0     </td><td>4.5     </td><td>3.5     </td><td>2.5     </td><td>4.0     </td><td>0.0     </td><td>4.5     </td><td>3.5     </td><td>4.0     </td><td>0.0     </td><td>0.0     </td><td>3.5     </td><td>0.0     </td><td>0.0     </td><td>0.0     </td><td>0.0     </td><td>0.0     </td><td>4.0     </td><td>0.0     </td><td>2.0     </td><td>3.5     </td><td>0.0     </td><td>4.0     </td><td>5.0     </td><td>0.0     </td><td>2.5     </td><td>4.0     </td><td>4.5     </td><td>4.0     </td><td>0.0     </td><td>3.5     </td><td>0.0     </td><td>4.0     </td><td>0.0     </td><td>0.0     </td><td>4.0     </td><td style=\"text-align: right;\">       4</td></tr>\n",
       "<tr><td><i style='opacity: 0.6'>3</i>    </td><td>5.0 </td><td>4.5 </td><td>4.0 </td><td>0.0  </td><td>4.0  </td><td>5.0  </td><td>1.0  </td><td>4.0  </td><td>3.5  </td><td>4.5  </td><td>3.0  </td><td>4.0  </td><td>0.0  </td><td>4.5  </td><td>4.0  </td><td>5.0  </td><td>3.0  </td><td>0.0  </td><td>0.0  </td><td>3.0  </td><td>5.0  </td><td>3.5  </td><td>5.0  </td><td>2.0  </td><td>3.5  </td><td>4.0  </td><td>2.5  </td><td>3.5  </td><td>3.0  </td><td>3.5  </td><td>0.0  </td><td>3.5  </td><td>5.0  </td><td>4.0  </td><td>4.0  </td><td>3.5  </td><td>4.0  </td><td>0.0  </td><td>5.0  </td><td>4.0  </td><td>5.0  </td><td>4.0  </td><td>2.5  </td><td>3.0   </td><td>3.0   </td><td>0.0   </td><td>3.5   </td><td>4.5   </td><td>5.0   </td><td>5.0   </td><td>3.0   </td><td>4.5   </td><td>5.0   </td><td>4.0   </td><td>2.5   </td><td>5.0   </td><td>4.5   </td><td>4.0   </td><td>3.0   </td><td>4.0   </td><td>4.0   </td><td>4.0   </td><td>4.5   </td><td>4.0   </td><td>3.0   </td><td>4.0   </td><td>3.5   </td><td>3.0   </td><td>0.0   </td><td>4.0   </td><td>4.5   </td><td>4.0   </td><td>4.0   </td><td>3.5   </td><td>3.0   </td><td>5.0   </td><td>5.0   </td><td>4.0   </td><td>4.0   </td><td>4.5   </td><td>4.0   </td><td>5.0   </td><td>4.0   </td><td>3.0   </td><td>0.5   </td><td>3.0   </td><td>5.0   </td><td>5.0   </td><td>3.0   </td><td>2.5   </td><td>4.5   </td><td>4.0   </td><td>4.0   </td><td>4.5   </td><td>5.0   </td><td>0.5   </td><td>4.0   </td><td>5.0   </td><td>4.0   </td><td>4.0   </td><td>...  </td><td>2.0     </td><td>4.0     </td><td>3.0     </td><td>1.0     </td><td>3.0     </td><td>3.0     </td><td>4.0     </td><td>3.5     </td><td>4.0     </td><td>4.0     </td><td>5.0     </td><td>4.0     </td><td>1.0     </td><td>2.0     </td><td>0.0     </td><td>4.5     </td><td>5.0     </td><td>4.0     </td><td>5.0     </td><td>4.5     </td><td>5.0     </td><td>4.5     </td><td>3.0     </td><td>5.0     </td><td>5.0     </td><td>5.0     </td><td>3.5     </td><td>3.0     </td><td>4.5     </td><td>4.5     </td><td>3.5     </td><td>3.0     </td><td>1.0     </td><td>2.0     </td><td>5.0     </td><td>5.0     </td><td>0.0     </td><td>2.5     </td><td>5.0     </td><td>4.0     </td><td>5.0     </td><td>4.0     </td><td>1.0     </td><td>5.0     </td><td>4.5     </td><td>4.5     </td><td>5.0     </td><td>1.0     </td><td>5.0     </td><td>3.5     </td><td>4.5     </td><td>2.5     </td><td>2.0     </td><td>4.0     </td><td>4.0     </td><td>5.0     </td><td>3.0     </td><td>2.0     </td><td>4.0     </td><td>5.0     </td><td>4.0     </td><td>3.0     </td><td>5.0     </td><td>4.0     </td><td>4.0     </td><td>4.5     </td><td>5.0     </td><td>3.5     </td><td>0.0     </td><td>4.0     </td><td>1.5     </td><td>4.5     </td><td>0.0     </td><td>4.0     </td><td>3.5     </td><td>4.0     </td><td>5.0     </td><td>1.0     </td><td>3.0     </td><td>3.0     </td><td>4.0     </td><td>4.0     </td><td>5.0     </td><td>5.0     </td><td>4.0     </td><td>4.5     </td><td>4.0     </td><td>4.5     </td><td>0.0     </td><td>3.0     </td><td>5.0     </td><td>4.0     </td><td>4.0     </td><td>3.5     </td><td>0.0     </td><td>4.5     </td><td>5.0     </td><td>4.5     </td><td>4.0     </td><td style=\"text-align: right;\">       0</td></tr>\n",
       "<tr><td><i style='opacity: 0.6'>4</i>    </td><td>5.0 </td><td>4.5 </td><td>4.5 </td><td>2.0  </td><td>4.5  </td><td>5.0  </td><td>3.5  </td><td>4.0  </td><td>0.0  </td><td>3.5  </td><td>5.0  </td><td>5.0  </td><td>4.0  </td><td>4.0  </td><td>3.0  </td><td>5.0  </td><td>4.0  </td><td>5.0  </td><td>4.0  </td><td>0.0  </td><td>4.5  </td><td>3.5  </td><td>5.0  </td><td>5.0  </td><td>4.0  </td><td>4.5  </td><td>4.0  </td><td>4.5  </td><td>5.0  </td><td>4.0  </td><td>4.0  </td><td>3.0  </td><td>5.0  </td><td>3.5  </td><td>3.5  </td><td>4.0  </td><td>5.0  </td><td>4.0  </td><td>5.0  </td><td>4.0  </td><td>5.0  </td><td>3.5  </td><td>4.0  </td><td>5.0   </td><td>0.0   </td><td>0.0   </td><td>4.0   </td><td>4.5   </td><td>4.5   </td><td>4.5   </td><td>5.0   </td><td>4.0   </td><td>5.0   </td><td>4.0   </td><td>4.5   </td><td>4.5   </td><td>1.0   </td><td>5.0   </td><td>2.5   </td><td>4.0   </td><td>0.0   </td><td>4.0   </td><td>0.0   </td><td>5.0   </td><td>5.0   </td><td>0.0   </td><td>3.0   </td><td>0.0   </td><td>4.0   </td><td>4.0   </td><td>5.0   </td><td>3.0   </td><td>3.5   </td><td>4.0   </td><td>3.0   </td><td>0.0   </td><td>0.0   </td><td>5.0   </td><td>5.0   </td><td>4.0   </td><td>5.0   </td><td>5.0   </td><td>0.0   </td><td>4.0   </td><td>5.0   </td><td>4.5   </td><td>3.5   </td><td>4.5   </td><td>5.0   </td><td>2.0   </td><td>4.0   </td><td>3.5   </td><td>5.0   </td><td>5.0   </td><td>4.0   </td><td>2.0   </td><td>4.0   </td><td>0.0   </td><td>4.0   </td><td>5.0   </td><td>...  </td><td>4.0     </td><td>2.0     </td><td>5.0     </td><td>5.0     </td><td>4.0     </td><td>0.0     </td><td>4.0     </td><td>4.0     </td><td>5.0     </td><td>3.5     </td><td>2.0     </td><td>0.0     </td><td>0.0     </td><td>5.0     </td><td>5.0     </td><td>4.0     </td><td>5.0     </td><td>4.0     </td><td>5.0     </td><td>4.5     </td><td>3.5     </td><td>3.0     </td><td>3.5     </td><td>5.0     </td><td>4.0     </td><td>4.0     </td><td>4.5     </td><td>2.5     </td><td>0.0     </td><td>4.5     </td><td>5.0     </td><td>4.5     </td><td>2.5     </td><td>0.0     </td><td>4.5     </td><td>5.0     </td><td>5.0     </td><td>4.5     </td><td>5.0     </td><td>4.0     </td><td>3.0     </td><td>4.0     </td><td>4.0     </td><td>1.0     </td><td>3.5     </td><td>4.0     </td><td>5.0     </td><td>5.0     </td><td>2.0     </td><td>4.0     </td><td>4.0     </td><td>1.5     </td><td>2.0     </td><td>3.5     </td><td>4.0     </td><td>5.0     </td><td>3.0     </td><td>3.0     </td><td>5.0     </td><td>3.0     </td><td>4.5     </td><td>5.0     </td><td>5.0     </td><td>3.5     </td><td>5.0     </td><td>1.0     </td><td>5.0     </td><td>5.0     </td><td>4.0     </td><td>5.0     </td><td>5.0     </td><td>4.5     </td><td>5.0     </td><td>2.0     </td><td>4.0     </td><td>5.0     </td><td>5.0     </td><td>4.0     </td><td>0.0     </td><td>4.5     </td><td>3.5     </td><td>0.0     </td><td>4.0     </td><td>0.0     </td><td>5.0     </td><td>4.5     </td><td>5.0     </td><td>4.5     </td><td>3.5     </td><td>4.0     </td><td>5.0     </td><td>4.0     </td><td>5.0     </td><td>5.0     </td><td>4.0     </td><td>5.0     </td><td>3.0     </td><td>4.0     </td><td>4.0     </td><td style=\"text-align: right;\">       5</td></tr>\n",
       "<tr><td>...                              </td><td>... </td><td>... </td><td>... </td><td>...  </td><td>...  </td><td>...  </td><td>...  </td><td>...  </td><td>...  </td><td>...  </td><td>...  </td><td>...  </td><td>...  </td><td>...  </td><td>...  </td><td>...  </td><td>...  </td><td>...  </td><td>...  </td><td>...  </td><td>...  </td><td>...  </td><td>...  </td><td>...  </td><td>...  </td><td>...  </td><td>...  </td><td>...  </td><td>...  </td><td>...  </td><td>...  </td><td>...  </td><td>...  </td><td>...  </td><td>...  </td><td>...  </td><td>...  </td><td>...  </td><td>...  </td><td>...  </td><td>...  </td><td>...  </td><td>...  </td><td>...   </td><td>...   </td><td>...   </td><td>...   </td><td>...   </td><td>...   </td><td>...   </td><td>...   </td><td>...   </td><td>...   </td><td>...   </td><td>...   </td><td>...   </td><td>...   </td><td>...   </td><td>...   </td><td>...   </td><td>...   </td><td>...   </td><td>...   </td><td>...   </td><td>...   </td><td>...   </td><td>...   </td><td>...   </td><td>...   </td><td>...   </td><td>...   </td><td>...   </td><td>...   </td><td>...   </td><td>...   </td><td>...   </td><td>...   </td><td>...   </td><td>...   </td><td>...   </td><td>...   </td><td>...   </td><td>...   </td><td>...   </td><td>...   </td><td>...   </td><td>...   </td><td>...   </td><td>...   </td><td>...   </td><td>...   </td><td>...   </td><td>...   </td><td>...   </td><td>...   </td><td>...   </td><td>...   </td><td>...   </td><td>...   </td><td>...   </td><td>...  </td><td>...     </td><td>...     </td><td>...     </td><td>...     </td><td>...     </td><td>...     </td><td>...     </td><td>...     </td><td>...     </td><td>...     </td><td>...     </td><td>...     </td><td>...     </td><td>...     </td><td>...     </td><td>...     </td><td>...     </td><td>...     </td><td>...     </td><td>...     </td><td>...     </td><td>...     </td><td>...     </td><td>...     </td><td>...     </td><td>...     </td><td>...     </td><td>...     </td><td>...     </td><td>...     </td><td>...     </td><td>...     </td><td>...     </td><td>...     </td><td>...     </td><td>...     </td><td>...     </td><td>...     </td><td>...     </td><td>...     </td><td>...     </td><td>...     </td><td>...     </td><td>...     </td><td>...     </td><td>...     </td><td>...     </td><td>...     </td><td>...     </td><td>...     </td><td>...     </td><td>...     </td><td>...     </td><td>...     </td><td>...     </td><td>...     </td><td>...     </td><td>...     </td><td>...     </td><td>...     </td><td>...     </td><td>...     </td><td>...     </td><td>...     </td><td>...     </td><td>...     </td><td>...     </td><td>...     </td><td>...     </td><td>...     </td><td>...     </td><td>...     </td><td>...     </td><td>...     </td><td>...     </td><td>...     </td><td>...     </td><td>...     </td><td>...     </td><td>...     </td><td>...     </td><td>...     </td><td>...     </td><td>...     </td><td>...     </td><td>...     </td><td>...     </td><td>...     </td><td>...     </td><td>...     </td><td>...     </td><td>...     </td><td>...     </td><td>...     </td><td>...     </td><td>...     </td><td>...     </td><td>...     </td><td>...     </td><td style=\"text-align: right;\">       0</td></tr>\n",
       "<tr><td><i style='opacity: 0.6'>2,823</i></td><td>0.0 </td><td>0.0 </td><td>0.0 </td><td>0.0  </td><td>0.0  </td><td>0.0  </td><td>3.5  </td><td>0.0  </td><td>4.5  </td><td>0.0  </td><td>0.0  </td><td>0.0  </td><td>0.0  </td><td>0.0  </td><td>0.0  </td><td>4.0  </td><td>0.0  </td><td>0.0  </td><td>0.0  </td><td>0.0  </td><td>0.0  </td><td>0.0  </td><td>0.0  </td><td>0.0  </td><td>0.0  </td><td>4.0  </td><td>0.0  </td><td>3.0  </td><td>0.0  </td><td>0.0  </td><td>4.5  </td><td>0.0  </td><td>0.0  </td><td>0.0  </td><td>0.0  </td><td>0.0  </td><td>0.0  </td><td>0.0  </td><td>0.0  </td><td>0.0  </td><td>0.0  </td><td>0.0  </td><td>0.0  </td><td>0.0   </td><td>0.0   </td><td>0.0   </td><td>0.0   </td><td>0.0   </td><td>0.0   </td><td>0.0   </td><td>0.0   </td><td>0.0   </td><td>0.0   </td><td>0.0   </td><td>0.0   </td><td>0.0   </td><td>0.0   </td><td>0.0   </td><td>0.0   </td><td>2.5   </td><td>0.0   </td><td>2.5   </td><td>0.0   </td><td>0.0   </td><td>0.0   </td><td>2.0   </td><td>0.0   </td><td>0.0   </td><td>0.0   </td><td>0.0   </td><td>0.0   </td><td>0.0   </td><td>0.0   </td><td>0.0   </td><td>0.0   </td><td>0.0   </td><td>0.0   </td><td>0.0   </td><td>0.0   </td><td>0.0   </td><td>0.0   </td><td>0.0   </td><td>0.0   </td><td>0.0   </td><td>0.0   </td><td>0.0   </td><td>0.0   </td><td>0.0   </td><td>0.0   </td><td>0.0   </td><td>0.0   </td><td>0.0   </td><td>0.0   </td><td>0.0   </td><td>0.0   </td><td>0.0   </td><td>0.0   </td><td>0.0   </td><td>0.0   </td><td>0.0   </td><td>...  </td><td>0.0     </td><td>0.0     </td><td>0.0     </td><td>0.0     </td><td>0.0     </td><td>0.0     </td><td>0.0     </td><td>4.0     </td><td>0.0     </td><td>0.0     </td><td>0.0     </td><td>0.0     </td><td>0.0     </td><td>0.0     </td><td>0.0     </td><td>0.0     </td><td>4.5     </td><td>0.0     </td><td>0.0     </td><td>0.0     </td><td>0.0     </td><td>0.0     </td><td>0.0     </td><td>0.0     </td><td>0.0     </td><td>0.0     </td><td>4.0     </td><td>0.0     </td><td>0.0     </td><td>0.0     </td><td>0.0     </td><td>0.0     </td><td>0.0     </td><td>0.0     </td><td>0.0     </td><td>0.0     </td><td>0.0     </td><td>0.0     </td><td>0.0     </td><td>0.0     </td><td>0.0     </td><td>0.0     </td><td>4.5     </td><td>0.0     </td><td>0.0     </td><td>0.0     </td><td>0.0     </td><td>0.0     </td><td>0.0     </td><td>4.0     </td><td>4.5     </td><td>0.0     </td><td>0.0     </td><td>4.5     </td><td>0.0     </td><td>0.0     </td><td>0.0     </td><td>0.0     </td><td>0.0     </td><td>0.0     </td><td>0.0     </td><td>0.0     </td><td>0.0     </td><td>0.0     </td><td>0.0     </td><td>4.5     </td><td>0.0     </td><td>0.0     </td><td>0.0     </td><td>0.0     </td><td>0.0     </td><td>0.0     </td><td>0.0     </td><td>0.0     </td><td>0.0     </td><td>0.0     </td><td>0.0     </td><td>0.0     </td><td>0.0     </td><td>0.0     </td><td>0.0     </td><td>0.0     </td><td>0.0     </td><td>0.0     </td><td>0.0     </td><td>0.0     </td><td>0.0     </td><td>4.0     </td><td>0.0     </td><td>0.0     </td><td>0.0     </td><td>0.0     </td><td>0.0     </td><td>4.0     </td><td>0.0     </td><td>0.0     </td><td>0.0     </td><td>0.0     </td><td>0.0     </td><td style=\"text-align: right;\">       0</td></tr>\n",
       "<tr><td><i style='opacity: 0.6'>2,824</i></td><td>0.0 </td><td>0.0 </td><td>0.0 </td><td>0.0  </td><td>0.0  </td><td>0.0  </td><td>4.0  </td><td>0.0  </td><td>0.0  </td><td>0.0  </td><td>0.0  </td><td>0.0  </td><td>0.0  </td><td>0.0  </td><td>0.0  </td><td>4.5  </td><td>0.0  </td><td>0.0  </td><td>0.0  </td><td>0.0  </td><td>0.0  </td><td>3.0  </td><td>0.0  </td><td>0.0  </td><td>0.0  </td><td>3.0  </td><td>0.0  </td><td>3.5  </td><td>0.0  </td><td>0.0  </td><td>4.0  </td><td>0.0  </td><td>0.0  </td><td>3.0  </td><td>0.0  </td><td>0.0  </td><td>0.0  </td><td>0.0  </td><td>0.0  </td><td>0.0  </td><td>0.0  </td><td>0.0  </td><td>0.0  </td><td>0.0   </td><td>0.0   </td><td>0.0   </td><td>0.0   </td><td>0.0   </td><td>0.0   </td><td>0.0   </td><td>0.0   </td><td>0.0   </td><td>0.0   </td><td>0.0   </td><td>0.0   </td><td>0.0   </td><td>0.0   </td><td>0.0   </td><td>0.0   </td><td>0.0   </td><td>0.0   </td><td>0.0   </td><td>0.0   </td><td>0.0   </td><td>0.0   </td><td>0.0   </td><td>0.0   </td><td>0.0   </td><td>0.0   </td><td>0.0   </td><td>0.0   </td><td>0.0   </td><td>0.0   </td><td>0.0   </td><td>0.0   </td><td>0.0   </td><td>0.0   </td><td>0.0   </td><td>0.0   </td><td>0.0   </td><td>0.0   </td><td>0.0   </td><td>0.0   </td><td>0.0   </td><td>0.0   </td><td>0.0   </td><td>0.0   </td><td>0.0   </td><td>0.0   </td><td>0.0   </td><td>0.0   </td><td>0.0   </td><td>0.0   </td><td>0.0   </td><td>0.0   </td><td>0.0   </td><td>0.0   </td><td>0.0   </td><td>0.0   </td><td>0.0   </td><td>...  </td><td>0.0     </td><td>0.0     </td><td>3.5     </td><td>0.0     </td><td>0.0     </td><td>0.0     </td><td>0.0     </td><td>0.0     </td><td>0.0     </td><td>0.0     </td><td>0.0     </td><td>0.0     </td><td>0.0     </td><td>0.0     </td><td>0.0     </td><td>0.0     </td><td>3.0     </td><td>0.0     </td><td>0.0     </td><td>0.0     </td><td>0.0     </td><td>0.0     </td><td>0.0     </td><td>0.0     </td><td>0.0     </td><td>0.0     </td><td>0.0     </td><td>0.0     </td><td>0.0     </td><td>0.0     </td><td>0.0     </td><td>0.0     </td><td>0.0     </td><td>0.0     </td><td>0.0     </td><td>0.0     </td><td>0.0     </td><td>0.0     </td><td>0.0     </td><td>0.0     </td><td>0.5     </td><td>0.0     </td><td>1.5     </td><td>0.0     </td><td>0.0     </td><td>3.5     </td><td>0.0     </td><td>0.0     </td><td>0.0     </td><td>0.0     </td><td>3.0     </td><td>0.0     </td><td>0.0     </td><td>0.0     </td><td>0.0     </td><td>0.0     </td><td>0.0     </td><td>0.0     </td><td>0.0     </td><td>0.0     </td><td>0.0     </td><td>0.0     </td><td>0.0     </td><td>0.0     </td><td>0.0     </td><td>2.5     </td><td>0.0     </td><td>0.0     </td><td>0.0     </td><td>0.0     </td><td>0.0     </td><td>0.0     </td><td>0.0     </td><td>0.0     </td><td>0.0     </td><td>0.0     </td><td>0.0     </td><td>0.0     </td><td>0.0     </td><td>0.0     </td><td>0.0     </td><td>0.0     </td><td>0.0     </td><td>0.0     </td><td>0.0     </td><td>0.0     </td><td>0.0     </td><td>0.0     </td><td>0.0     </td><td>0.0     </td><td>0.0     </td><td>0.0     </td><td>0.0     </td><td>3.0     </td><td>0.0     </td><td>0.0     </td><td>0.0     </td><td>0.0     </td><td>0.0     </td><td style=\"text-align: right;\">       5</td></tr>\n",
       "<tr><td><i style='opacity: 0.6'>2,825</i></td><td>0.0 </td><td>0.0 </td><td>0.0 </td><td>0.0  </td><td>0.0  </td><td>0.0  </td><td>0.0  </td><td>0.0  </td><td>0.0  </td><td>0.0  </td><td>0.0  </td><td>0.0  </td><td>0.0  </td><td>4.5  </td><td>0.0  </td><td>0.0  </td><td>0.0  </td><td>0.0  </td><td>0.0  </td><td>0.0  </td><td>0.0  </td><td>5.0  </td><td>0.0  </td><td>0.0  </td><td>0.0  </td><td>0.0  </td><td>0.0  </td><td>0.0  </td><td>0.0  </td><td>0.0  </td><td>0.0  </td><td>0.0  </td><td>0.0  </td><td>4.5  </td><td>0.0  </td><td>0.0  </td><td>0.0  </td><td>0.0  </td><td>0.0  </td><td>0.0  </td><td>0.0  </td><td>0.0  </td><td>0.0  </td><td>0.0   </td><td>0.0   </td><td>0.0   </td><td>0.0   </td><td>0.0   </td><td>0.0   </td><td>0.0   </td><td>0.0   </td><td>0.0   </td><td>0.0   </td><td>0.0   </td><td>0.0   </td><td>0.0   </td><td>0.0   </td><td>0.0   </td><td>0.0   </td><td>5.0   </td><td>0.0   </td><td>0.0   </td><td>5.0   </td><td>0.0   </td><td>0.0   </td><td>0.0   </td><td>0.0   </td><td>0.0   </td><td>0.0   </td><td>0.0   </td><td>0.0   </td><td>0.0   </td><td>0.0   </td><td>4.0   </td><td>0.0   </td><td>0.0   </td><td>0.0   </td><td>4.0   </td><td>0.0   </td><td>0.0   </td><td>0.0   </td><td>0.0   </td><td>0.0   </td><td>0.0   </td><td>0.0   </td><td>0.0   </td><td>0.0   </td><td>0.0   </td><td>0.0   </td><td>0.0   </td><td>0.0   </td><td>0.0   </td><td>0.0   </td><td>0.0   </td><td>0.0   </td><td>0.0   </td><td>0.0   </td><td>0.0   </td><td>0.0   </td><td>0.0   </td><td>...  </td><td>0.0     </td><td>0.0     </td><td>0.0     </td><td>0.0     </td><td>0.0     </td><td>0.0     </td><td>0.0     </td><td>0.0     </td><td>0.0     </td><td>0.0     </td><td>0.0     </td><td>0.0     </td><td>0.0     </td><td>0.0     </td><td>0.0     </td><td>4.5     </td><td>4.5     </td><td>0.0     </td><td>0.0     </td><td>0.0     </td><td>2.0     </td><td>0.0     </td><td>0.0     </td><td>0.0     </td><td>0.0     </td><td>0.0     </td><td>4.0     </td><td>0.0     </td><td>0.0     </td><td>0.0     </td><td>0.0     </td><td>0.0     </td><td>0.0     </td><td>0.0     </td><td>5.0     </td><td>0.0     </td><td>0.0     </td><td>0.0     </td><td>0.0     </td><td>5.0     </td><td>4.0     </td><td>0.0     </td><td>0.0     </td><td>0.0     </td><td>0.0     </td><td>3.5     </td><td>0.0     </td><td>0.0     </td><td>0.0     </td><td>4.5     </td><td>0.0     </td><td>0.0     </td><td>0.0     </td><td>4.0     </td><td>0.0     </td><td>0.0     </td><td>0.0     </td><td>0.0     </td><td>0.0     </td><td>0.0     </td><td>0.0     </td><td>0.0     </td><td>0.0     </td><td>0.0     </td><td>0.0     </td><td>0.0     </td><td>5.0     </td><td>0.0     </td><td>4.5     </td><td>5.0     </td><td>0.0     </td><td>0.0     </td><td>4.5     </td><td>0.0     </td><td>0.0     </td><td>0.0     </td><td>0.0     </td><td>0.0     </td><td>0.0     </td><td>0.0     </td><td>0.0     </td><td>0.0     </td><td>4.5     </td><td>0.0     </td><td>0.0     </td><td>0.0     </td><td>0.0     </td><td>0.0     </td><td>0.0     </td><td>4.5     </td><td>0.0     </td><td>0.0     </td><td>0.0     </td><td>5.0     </td><td>0.0     </td><td>0.0     </td><td>0.0     </td><td>0.0     </td><td>0.0     </td><td style=\"text-align: right;\">       5</td></tr>\n",
       "<tr><td><i style='opacity: 0.6'>2,826</i></td><td>0.0 </td><td>0.0 </td><td>0.0 </td><td>0.0  </td><td>0.0  </td><td>0.0  </td><td>0.0  </td><td>0.0  </td><td>0.0  </td><td>0.0  </td><td>0.0  </td><td>0.0  </td><td>0.0  </td><td>0.0  </td><td>0.0  </td><td>0.0  </td><td>0.0  </td><td>0.0  </td><td>0.0  </td><td>0.0  </td><td>0.0  </td><td>3.5  </td><td>0.0  </td><td>0.0  </td><td>4.0  </td><td>0.0  </td><td>0.0  </td><td>4.5  </td><td>0.0  </td><td>0.0  </td><td>5.0  </td><td>0.0  </td><td>0.0  </td><td>4.0  </td><td>0.0  </td><td>0.0  </td><td>0.0  </td><td>0.0  </td><td>0.0  </td><td>0.0  </td><td>0.0  </td><td>0.0  </td><td>0.0  </td><td>0.0   </td><td>0.0   </td><td>0.0   </td><td>0.0   </td><td>0.0   </td><td>5.0   </td><td>0.0   </td><td>0.0   </td><td>0.0   </td><td>0.0   </td><td>0.0   </td><td>0.0   </td><td>0.0   </td><td>0.0   </td><td>0.0   </td><td>0.0   </td><td>0.0   </td><td>0.0   </td><td>3.5   </td><td>0.0   </td><td>0.0   </td><td>0.0   </td><td>0.0   </td><td>0.0   </td><td>3.0   </td><td>0.0   </td><td>3.5   </td><td>0.0   </td><td>0.0   </td><td>4.0   </td><td>0.0   </td><td>0.0   </td><td>0.0   </td><td>0.0   </td><td>0.0   </td><td>0.0   </td><td>3.5   </td><td>0.0   </td><td>0.0   </td><td>0.0   </td><td>0.0   </td><td>0.0   </td><td>0.0   </td><td>0.0   </td><td>0.0   </td><td>0.0   </td><td>0.0   </td><td>0.0   </td><td>0.0   </td><td>0.0   </td><td>0.0   </td><td>0.0   </td><td>0.0   </td><td>0.0   </td><td>0.0   </td><td>0.0   </td><td>0.0   </td><td>...  </td><td>0.0     </td><td>0.0     </td><td>0.0     </td><td>0.0     </td><td>0.0     </td><td>0.0     </td><td>4.5     </td><td>0.0     </td><td>0.0     </td><td>0.0     </td><td>0.0     </td><td>0.0     </td><td>0.0     </td><td>0.0     </td><td>0.0     </td><td>3.0     </td><td>3.5     </td><td>0.0     </td><td>0.0     </td><td>5.0     </td><td>3.0     </td><td>0.0     </td><td>4.0     </td><td>0.0     </td><td>0.0     </td><td>0.0     </td><td>0.0     </td><td>0.0     </td><td>0.0     </td><td>0.0     </td><td>0.0     </td><td>0.0     </td><td>0.0     </td><td>0.0     </td><td>3.0     </td><td>0.0     </td><td>0.0     </td><td>0.0     </td><td>0.0     </td><td>0.0     </td><td>0.0     </td><td>0.0     </td><td>0.0     </td><td>0.0     </td><td>0.0     </td><td>0.0     </td><td>0.0     </td><td>0.0     </td><td>0.0     </td><td>4.5     </td><td>3.5     </td><td>0.0     </td><td>0.0     </td><td>0.0     </td><td>0.0     </td><td>0.0     </td><td>0.0     </td><td>0.0     </td><td>0.0     </td><td>0.0     </td><td>0.0     </td><td>0.0     </td><td>0.0     </td><td>0.0     </td><td>0.0     </td><td>0.0     </td><td>4.5     </td><td>4.5     </td><td>4.0     </td><td>0.0     </td><td>0.0     </td><td>4.5     </td><td>0.0     </td><td>0.0     </td><td>0.0     </td><td>0.0     </td><td>0.0     </td><td>0.0     </td><td>0.0     </td><td>0.0     </td><td>0.0     </td><td>0.0     </td><td>3.0     </td><td>0.0     </td><td>0.0     </td><td>0.0     </td><td>0.0     </td><td>0.0     </td><td>0.0     </td><td>4.5     </td><td>0.0     </td><td>0.0     </td><td>0.0     </td><td>2.0     </td><td>0.0     </td><td>0.0     </td><td>0.0     </td><td>0.0     </td><td>0.0     </td><td style=\"text-align: right;\">       4</td></tr>\n",
       "<tr><td><i style='opacity: 0.6'>2,827</i></td><td>0.0 </td><td>0.0 </td><td>0.0 </td><td>0.0  </td><td>0.0  </td><td>0.0  </td><td>2.0  </td><td>0.0  </td><td>0.0  </td><td>0.0  </td><td>0.0  </td><td>0.0  </td><td>0.0  </td><td>0.0  </td><td>0.0  </td><td>0.0  </td><td>0.0  </td><td>0.0  </td><td>0.0  </td><td>0.0  </td><td>0.0  </td><td>5.0  </td><td>0.0  </td><td>0.0  </td><td>0.0  </td><td>0.0  </td><td>0.0  </td><td>4.0  </td><td>0.0  </td><td>0.0  </td><td>3.0  </td><td>0.0  </td><td>0.0  </td><td>3.5  </td><td>0.0  </td><td>0.0  </td><td>0.0  </td><td>0.0  </td><td>0.0  </td><td>0.0  </td><td>0.0  </td><td>4.0  </td><td>4.0  </td><td>0.0   </td><td>0.0   </td><td>0.0   </td><td>0.0   </td><td>0.0   </td><td>5.0   </td><td>4.0   </td><td>0.0   </td><td>0.0   </td><td>0.0   </td><td>0.0   </td><td>0.0   </td><td>0.0   </td><td>1.0   </td><td>0.0   </td><td>0.0   </td><td>0.0   </td><td>3.5   </td><td>5.0   </td><td>0.0   </td><td>0.0   </td><td>0.0   </td><td>0.0   </td><td>0.0   </td><td>2.0   </td><td>0.0   </td><td>0.0   </td><td>0.0   </td><td>0.0   </td><td>3.5   </td><td>0.0   </td><td>0.0   </td><td>0.0   </td><td>0.0   </td><td>0.0   </td><td>0.0   </td><td>3.0   </td><td>0.0   </td><td>0.0   </td><td>0.0   </td><td>0.0   </td><td>0.0   </td><td>0.0   </td><td>0.0   </td><td>0.0   </td><td>0.0   </td><td>4.5   </td><td>0.0   </td><td>0.0   </td><td>0.0   </td><td>0.0   </td><td>0.0   </td><td>0.0   </td><td>0.0   </td><td>0.0   </td><td>0.0   </td><td>0.0   </td><td>...  </td><td>0.0     </td><td>0.0     </td><td>5.0     </td><td>0.0     </td><td>0.0     </td><td>0.0     </td><td>0.0     </td><td>0.0     </td><td>0.0     </td><td>0.0     </td><td>0.0     </td><td>0.0     </td><td>0.0     </td><td>0.0     </td><td>4.5     </td><td>4.5     </td><td>3.0     </td><td>0.0     </td><td>0.0     </td><td>4.0     </td><td>0.0     </td><td>0.0     </td><td>4.0     </td><td>0.0     </td><td>0.0     </td><td>0.0     </td><td>4.5     </td><td>0.0     </td><td>0.0     </td><td>0.0     </td><td>0.0     </td><td>0.0     </td><td>5.0     </td><td>0.0     </td><td>3.5     </td><td>0.0     </td><td>0.0     </td><td>0.0     </td><td>0.0     </td><td>0.0     </td><td>3.5     </td><td>0.0     </td><td>0.0     </td><td>0.0     </td><td>4.5     </td><td>3.5     </td><td>0.0     </td><td>0.0     </td><td>0.0     </td><td>0.0     </td><td>4.0     </td><td>0.0     </td><td>0.0     </td><td>3.0     </td><td>0.0     </td><td>0.0     </td><td>0.0     </td><td>0.0     </td><td>0.0     </td><td>0.0     </td><td>2.0     </td><td>0.0     </td><td>0.0     </td><td>0.0     </td><td>4.0     </td><td>0.0     </td><td>3.0     </td><td>0.0     </td><td>4.5     </td><td>2.5     </td><td>2.5     </td><td>0.0     </td><td>3.0     </td><td>0.0     </td><td>3.0     </td><td>0.0     </td><td>0.0     </td><td>0.0     </td><td>0.0     </td><td>0.0     </td><td>0.0     </td><td>5.0     </td><td>0.0     </td><td>0.0     </td><td>0.0     </td><td>0.0     </td><td>0.0     </td><td>0.0     </td><td>0.0     </td><td>3.5     </td><td>0.0     </td><td>4.5     </td><td>0.0     </td><td>0.0     </td><td>3.0     </td><td>0.0     </td><td>0.0     </td><td>0.0     </td><td>3.0     </td><td style=\"text-align: right;\">        </td></tr>\n",
       "</tbody>\n",
       "</table>"
      ],
      "text/plain": [
       "#      54    58    91    104    116    156    208    247    271    294    298    347    348    359    367    370    388    394    413    424    572    586    587    609    614    631    632    637    648    702    710    717    741    768    775    777    812    856    903    910    955    971    982    1011    1052    1113    1165    1185    1200    1244    1296    1323    1411    1419    1421    1507    1516    1560    1568    1588    1602    1644    1678    1715    1729    1741    1748    1755    1763    1849    1854    1864    1887    1906    1908    1931    1942    1966    1972    2024    2038    2047    2071    2072    2099    2113    2158    2161    2171    2232    2242    2261    2311    2344    2349    2352    2374    2378    2397    2398    ...    135808    135819    135828    135888    135976    135984    135993    136015    136053    136054    136082    136132    136151    136187    136223    136262    136268    136293    136301    136426    136479    136521    136564    136568    136578    136595    136599    136673    136679    136684    136754    136806    136819    136860    136875    136877    136896    136897    136940    136941    136946    136957    136989    136997    137015    137031    137037    137130    137164    137202    137277    137280    137342    137343    137366    137369    137377    137387    137417    137501    137525    137558    137563    137683    137686    137717    137746    137805    137807    137838    137839    137854    137869    137885    137893    137934    137949    137976    137977    137993    138019    138072    138103    138134    138146    138148    138162    138164    138200    138208    138211    138254    138270    138301    138307    138325    138382    138397    138406      138437\n",
       "0      3.0   0.0   0.0   0.0    0.0    3.0    0.0    0.0    0.0    0.0    3.0    0.0    0.0    0.0    0.0    0.0    0.0    0.0    2.5    0.0    0.0    3.5    2.0    0.0    3.5    0.0    0.0    0.0    0.0    0.0    0.0    0.0    0.0    0.0    3.5    4.0    1.5    0.0    2.0    0.0    3.0    0.0    4.0    0.0     0.0     0.0     2.5     0.0     0.0     3.5     3.0     0.0     0.0     4.0     0.0     4.0     0.0     0.0     0.0     0.0     0.0     0.0     0.0     3.0     0.0     0.0     3.5     0.0     4.0     0.0     0.0     0.0     0.0     0.0     2.0     4.0     4.0     0.0     0.0     0.0     0.0     0.0     0.0     0.0     4.0     0.0     0.0     0.0     0.0     3.5     0.0     2.0     0.0     5.0     0.0     0.0     0.0     0.0     0.0     4.0     ...    0.0       0.0       4.0       0.0       4.0       0.0       0.0       0.0       0.0       0.0       4.0       0.0       0.0       0.0       0.0       0.0       0.0       3.0       0.0       0.0       0.0       0.0       0.0       0.0       0.0       0.0       0.0       0.0       0.0       0.0       0.0       3.5       1.5       0.0       4.0       0.0       0.0       0.0       0.0       0.0       0.0       4.0       0.0       0.0       0.0       3.5       4.0       0.0       0.0       0.0       3.0       0.0       0.0       1.0       0.0       5.0       3.5       4.0       0.0       0.0       0.0       2.0       2.0       0.0       3.0       0.0       0.0       0.0       3.5       0.0       0.0       0.0       0.0       1.0       0.0       0.0       0.0       1.0       0.0       0.0       0.0       2.5       0.0       0.0       0.0       3.0       0.0       4.0       0.0       1.0       0.0       4.5       0.0       0.0       1.0       0.0       0.0       0.0       0.0              0\n",
       "1      4.0   0.0   4.5   3.0    4.5    0.0    4.5    4.0    2.5    4.0    5.0    4.0    0.0    5.0    4.0    0.0    3.0    4.0    5.0    3.5    0.0    3.5    4.0    4.5    4.0    4.5    3.0    4.0    2.0    4.5    5.0    4.0    5.0    4.5    5.0    2.0    4.0    0.0    5.0    4.5    4.0    5.0    4.0    5.0     4.5     0.0     4.0     4.5     5.0     5.0     5.0     5.0     4.0     4.0     4.0     4.0     4.0     5.0     2.5     4.5     0.0     4.0     3.5     4.0     3.0     4.0     4.0     4.0     4.0     4.5     4.0     4.0     3.5     5.0     3.0     0.0     5.0     4.0     5.0     4.0     4.5     4.0     4.0     4.0     4.5     2.0     4.0     4.5     5.0     4.5     4.0     5.0     5.0     5.0     5.0     2.5     3.0     5.0     4.0     4.0     ...    4.0       0.5       3.5       0.0       5.0       1.0       4.5       0.0       3.5       4.5       5.0       5.0       4.0       3.0       0.0       5.0       4.0       4.5       4.0       4.0       2.0       5.0       4.0       5.0       0.0       4.5       4.0       4.5       0.0       0.0       4.0       4.5       0.0       5.0       4.0       5.0       5.0       4.0       5.0       2.0       3.5       5.0       5.0       5.0       5.0       4.0       5.0       5.0       4.0       4.5       4.0       0.0       5.0       5.0       4.0       5.0       3.0       4.0       4.0       5.0       3.5       3.0       5.0       4.0       5.0       3.5       4.0       4.0       4.0       4.0       5.0       4.5       5.0       4.0       4.0       5.0       3.0       4.0       4.0       4.5       5.0       4.0       4.0       5.0       0.0       3.0       5.0       3.5       0.0       3.0       4.0       4.5       4.0       3.5       2.0       5.0       4.0       3.5       4.0              5\n",
       "2      0.0   0.0   4.0   0.0    3.0    0.0    3.5    0.0    2.5    4.5    0.0    3.5    4.5    3.0    0.0    2.5    0.0    0.0    4.0    4.5    4.0    0.0    4.5    3.0    3.5    4.0    0.0    3.5    0.0    4.0    4.5    0.0    4.0    0.0    5.0    4.0    3.5    0.0    0.0    4.0    0.0    0.0    0.0    5.0     0.0     4.0     0.0     4.0     4.0     4.0     0.0     4.0     4.5     4.5     4.0     3.5     0.0     5.0     3.0     4.0     4.5     4.0     4.5     4.0     0.0     2.5     4.5     4.5     4.0     4.5     4.0     0.0     4.5     4.5     4.5     0.0     0.0     4.0     0.0     4.0     4.5     5.0     3.5     3.0     4.5     0.0     4.5     5.0     4.0     3.5     0.0     4.0     0.0     1.5     5.0     1.5     0.0     0.0     4.0     0.0     ...    4.5       0.0       3.0       0.0       4.5       4.5       4.5       4.0       2.5       0.0       5.0       4.5       0.0       4.5       4.5       5.0       3.5       0.0       4.0       4.0       4.0       3.5       4.0       0.0       0.0       3.0       4.0       3.5       0.0       4.0       4.0       0.0       4.5       3.0       3.5       5.0       0.0       4.0       0.0       0.0       3.0       4.5       1.0       0.0       3.5       1.5       0.0       4.0       4.0       4.0       4.0       0.0       0.0       5.0       0.0       0.0       4.5       0.0       5.0       0.0       4.0       0.0       0.0       4.0       4.5       3.5       2.5       4.0       0.0       4.5       3.5       4.0       0.0       0.0       3.5       0.0       0.0       0.0       0.0       0.0       4.0       0.0       2.0       3.5       0.0       4.0       5.0       0.0       2.5       4.0       4.5       4.0       0.0       3.5       0.0       4.0       0.0       0.0       4.0              4\n",
       "3      5.0   4.5   4.0   0.0    4.0    5.0    1.0    4.0    3.5    4.5    3.0    4.0    0.0    4.5    4.0    5.0    3.0    0.0    0.0    3.0    5.0    3.5    5.0    2.0    3.5    4.0    2.5    3.5    3.0    3.5    0.0    3.5    5.0    4.0    4.0    3.5    4.0    0.0    5.0    4.0    5.0    4.0    2.5    3.0     3.0     0.0     3.5     4.5     5.0     5.0     3.0     4.5     5.0     4.0     2.5     5.0     4.5     4.0     3.0     4.0     4.0     4.0     4.5     4.0     3.0     4.0     3.5     3.0     0.0     4.0     4.5     4.0     4.0     3.5     3.0     5.0     5.0     4.0     4.0     4.5     4.0     5.0     4.0     3.0     0.5     3.0     5.0     5.0     3.0     2.5     4.5     4.0     4.0     4.5     5.0     0.5     4.0     5.0     4.0     4.0     ...    2.0       4.0       3.0       1.0       3.0       3.0       4.0       3.5       4.0       4.0       5.0       4.0       1.0       2.0       0.0       4.5       5.0       4.0       5.0       4.5       5.0       4.5       3.0       5.0       5.0       5.0       3.5       3.0       4.5       4.5       3.5       3.0       1.0       2.0       5.0       5.0       0.0       2.5       5.0       4.0       5.0       4.0       1.0       5.0       4.5       4.5       5.0       1.0       5.0       3.5       4.5       2.5       2.0       4.0       4.0       5.0       3.0       2.0       4.0       5.0       4.0       3.0       5.0       4.0       4.0       4.5       5.0       3.5       0.0       4.0       1.5       4.5       0.0       4.0       3.5       4.0       5.0       1.0       3.0       3.0       4.0       4.0       5.0       5.0       4.0       4.5       4.0       4.5       0.0       3.0       5.0       4.0       4.0       3.5       0.0       4.5       5.0       4.5       4.0              0\n",
       "4      5.0   4.5   4.5   2.0    4.5    5.0    3.5    4.0    0.0    3.5    5.0    5.0    4.0    4.0    3.0    5.0    4.0    5.0    4.0    0.0    4.5    3.5    5.0    5.0    4.0    4.5    4.0    4.5    5.0    4.0    4.0    3.0    5.0    3.5    3.5    4.0    5.0    4.0    5.0    4.0    5.0    3.5    4.0    5.0     0.0     0.0     4.0     4.5     4.5     4.5     5.0     4.0     5.0     4.0     4.5     4.5     1.0     5.0     2.5     4.0     0.0     4.0     0.0     5.0     5.0     0.0     3.0     0.0     4.0     4.0     5.0     3.0     3.5     4.0     3.0     0.0     0.0     5.0     5.0     4.0     5.0     5.0     0.0     4.0     5.0     4.5     3.5     4.5     5.0     2.0     4.0     3.5     5.0     5.0     4.0     2.0     4.0     0.0     4.0     5.0     ...    4.0       2.0       5.0       5.0       4.0       0.0       4.0       4.0       5.0       3.5       2.0       0.0       0.0       5.0       5.0       4.0       5.0       4.0       5.0       4.5       3.5       3.0       3.5       5.0       4.0       4.0       4.5       2.5       0.0       4.5       5.0       4.5       2.5       0.0       4.5       5.0       5.0       4.5       5.0       4.0       3.0       4.0       4.0       1.0       3.5       4.0       5.0       5.0       2.0       4.0       4.0       1.5       2.0       3.5       4.0       5.0       3.0       3.0       5.0       3.0       4.5       5.0       5.0       3.5       5.0       1.0       5.0       5.0       4.0       5.0       5.0       4.5       5.0       2.0       4.0       5.0       5.0       4.0       0.0       4.5       3.5       0.0       4.0       0.0       5.0       4.5       5.0       4.5       3.5       4.0       5.0       4.0       5.0       5.0       4.0       5.0       3.0       4.0       4.0              5\n",
       "...    ...   ...   ...   ...    ...    ...    ...    ...    ...    ...    ...    ...    ...    ...    ...    ...    ...    ...    ...    ...    ...    ...    ...    ...    ...    ...    ...    ...    ...    ...    ...    ...    ...    ...    ...    ...    ...    ...    ...    ...    ...    ...    ...    ...     ...     ...     ...     ...     ...     ...     ...     ...     ...     ...     ...     ...     ...     ...     ...     ...     ...     ...     ...     ...     ...     ...     ...     ...     ...     ...     ...     ...     ...     ...     ...     ...     ...     ...     ...     ...     ...     ...     ...     ...     ...     ...     ...     ...     ...     ...     ...     ...     ...     ...     ...     ...     ...     ...     ...     ...     ...    ...       ...       ...       ...       ...       ...       ...       ...       ...       ...       ...       ...       ...       ...       ...       ...       ...       ...       ...       ...       ...       ...       ...       ...       ...       ...       ...       ...       ...       ...       ...       ...       ...       ...       ...       ...       ...       ...       ...       ...       ...       ...       ...       ...       ...       ...       ...       ...       ...       ...       ...       ...       ...       ...       ...       ...       ...       ...       ...       ...       ...       ...       ...       ...       ...       ...       ...       ...       ...       ...       ...       ...       ...       ...       ...       ...       ...       ...       ...       ...       ...       ...       ...       ...       ...       ...       ...       ...       ...       ...       ...       ...       ...       ...       ...       ...       ...       ...       ...              0\n",
       "2,823  0.0   0.0   0.0   0.0    0.0    0.0    3.5    0.0    4.5    0.0    0.0    0.0    0.0    0.0    0.0    4.0    0.0    0.0    0.0    0.0    0.0    0.0    0.0    0.0    0.0    4.0    0.0    3.0    0.0    0.0    4.5    0.0    0.0    0.0    0.0    0.0    0.0    0.0    0.0    0.0    0.0    0.0    0.0    0.0     0.0     0.0     0.0     0.0     0.0     0.0     0.0     0.0     0.0     0.0     0.0     0.0     0.0     0.0     0.0     2.5     0.0     2.5     0.0     0.0     0.0     2.0     0.0     0.0     0.0     0.0     0.0     0.0     0.0     0.0     0.0     0.0     0.0     0.0     0.0     0.0     0.0     0.0     0.0     0.0     0.0     0.0     0.0     0.0     0.0     0.0     0.0     0.0     0.0     0.0     0.0     0.0     0.0     0.0     0.0     0.0     ...    0.0       0.0       0.0       0.0       0.0       0.0       0.0       4.0       0.0       0.0       0.0       0.0       0.0       0.0       0.0       0.0       4.5       0.0       0.0       0.0       0.0       0.0       0.0       0.0       0.0       0.0       4.0       0.0       0.0       0.0       0.0       0.0       0.0       0.0       0.0       0.0       0.0       0.0       0.0       0.0       0.0       0.0       4.5       0.0       0.0       0.0       0.0       0.0       0.0       4.0       4.5       0.0       0.0       4.5       0.0       0.0       0.0       0.0       0.0       0.0       0.0       0.0       0.0       0.0       0.0       4.5       0.0       0.0       0.0       0.0       0.0       0.0       0.0       0.0       0.0       0.0       0.0       0.0       0.0       0.0       0.0       0.0       0.0       0.0       0.0       0.0       0.0       4.0       0.0       0.0       0.0       0.0       0.0       4.0       0.0       0.0       0.0       0.0       0.0              0\n",
       "2,824  0.0   0.0   0.0   0.0    0.0    0.0    4.0    0.0    0.0    0.0    0.0    0.0    0.0    0.0    0.0    4.5    0.0    0.0    0.0    0.0    0.0    3.0    0.0    0.0    0.0    3.0    0.0    3.5    0.0    0.0    4.0    0.0    0.0    3.0    0.0    0.0    0.0    0.0    0.0    0.0    0.0    0.0    0.0    0.0     0.0     0.0     0.0     0.0     0.0     0.0     0.0     0.0     0.0     0.0     0.0     0.0     0.0     0.0     0.0     0.0     0.0     0.0     0.0     0.0     0.0     0.0     0.0     0.0     0.0     0.0     0.0     0.0     0.0     0.0     0.0     0.0     0.0     0.0     0.0     0.0     0.0     0.0     0.0     0.0     0.0     0.0     0.0     0.0     0.0     0.0     0.0     0.0     0.0     0.0     0.0     0.0     0.0     0.0     0.0     0.0     ...    0.0       0.0       3.5       0.0       0.0       0.0       0.0       0.0       0.0       0.0       0.0       0.0       0.0       0.0       0.0       0.0       3.0       0.0       0.0       0.0       0.0       0.0       0.0       0.0       0.0       0.0       0.0       0.0       0.0       0.0       0.0       0.0       0.0       0.0       0.0       0.0       0.0       0.0       0.0       0.0       0.5       0.0       1.5       0.0       0.0       3.5       0.0       0.0       0.0       0.0       3.0       0.0       0.0       0.0       0.0       0.0       0.0       0.0       0.0       0.0       0.0       0.0       0.0       0.0       0.0       2.5       0.0       0.0       0.0       0.0       0.0       0.0       0.0       0.0       0.0       0.0       0.0       0.0       0.0       0.0       0.0       0.0       0.0       0.0       0.0       0.0       0.0       0.0       0.0       0.0       0.0       0.0       0.0       3.0       0.0       0.0       0.0       0.0       0.0              5\n",
       "2,825  0.0   0.0   0.0   0.0    0.0    0.0    0.0    0.0    0.0    0.0    0.0    0.0    0.0    4.5    0.0    0.0    0.0    0.0    0.0    0.0    0.0    5.0    0.0    0.0    0.0    0.0    0.0    0.0    0.0    0.0    0.0    0.0    0.0    4.5    0.0    0.0    0.0    0.0    0.0    0.0    0.0    0.0    0.0    0.0     0.0     0.0     0.0     0.0     0.0     0.0     0.0     0.0     0.0     0.0     0.0     0.0     0.0     0.0     0.0     5.0     0.0     0.0     5.0     0.0     0.0     0.0     0.0     0.0     0.0     0.0     0.0     0.0     0.0     4.0     0.0     0.0     0.0     4.0     0.0     0.0     0.0     0.0     0.0     0.0     0.0     0.0     0.0     0.0     0.0     0.0     0.0     0.0     0.0     0.0     0.0     0.0     0.0     0.0     0.0     0.0     ...    0.0       0.0       0.0       0.0       0.0       0.0       0.0       0.0       0.0       0.0       0.0       0.0       0.0       0.0       0.0       4.5       4.5       0.0       0.0       0.0       2.0       0.0       0.0       0.0       0.0       0.0       4.0       0.0       0.0       0.0       0.0       0.0       0.0       0.0       5.0       0.0       0.0       0.0       0.0       5.0       4.0       0.0       0.0       0.0       0.0       3.5       0.0       0.0       0.0       4.5       0.0       0.0       0.0       4.0       0.0       0.0       0.0       0.0       0.0       0.0       0.0       0.0       0.0       0.0       0.0       0.0       5.0       0.0       4.5       5.0       0.0       0.0       4.5       0.0       0.0       0.0       0.0       0.0       0.0       0.0       0.0       0.0       4.5       0.0       0.0       0.0       0.0       0.0       0.0       4.5       0.0       0.0       0.0       5.0       0.0       0.0       0.0       0.0       0.0              5\n",
       "2,826  0.0   0.0   0.0   0.0    0.0    0.0    0.0    0.0    0.0    0.0    0.0    0.0    0.0    0.0    0.0    0.0    0.0    0.0    0.0    0.0    0.0    3.5    0.0    0.0    4.0    0.0    0.0    4.5    0.0    0.0    5.0    0.0    0.0    4.0    0.0    0.0    0.0    0.0    0.0    0.0    0.0    0.0    0.0    0.0     0.0     0.0     0.0     0.0     5.0     0.0     0.0     0.0     0.0     0.0     0.0     0.0     0.0     0.0     0.0     0.0     0.0     3.5     0.0     0.0     0.0     0.0     0.0     3.0     0.0     3.5     0.0     0.0     4.0     0.0     0.0     0.0     0.0     0.0     0.0     3.5     0.0     0.0     0.0     0.0     0.0     0.0     0.0     0.0     0.0     0.0     0.0     0.0     0.0     0.0     0.0     0.0     0.0     0.0     0.0     0.0     ...    0.0       0.0       0.0       0.0       0.0       0.0       4.5       0.0       0.0       0.0       0.0       0.0       0.0       0.0       0.0       3.0       3.5       0.0       0.0       5.0       3.0       0.0       4.0       0.0       0.0       0.0       0.0       0.0       0.0       0.0       0.0       0.0       0.0       0.0       3.0       0.0       0.0       0.0       0.0       0.0       0.0       0.0       0.0       0.0       0.0       0.0       0.0       0.0       0.0       4.5       3.5       0.0       0.0       0.0       0.0       0.0       0.0       0.0       0.0       0.0       0.0       0.0       0.0       0.0       0.0       0.0       4.5       4.5       4.0       0.0       0.0       4.5       0.0       0.0       0.0       0.0       0.0       0.0       0.0       0.0       0.0       0.0       3.0       0.0       0.0       0.0       0.0       0.0       0.0       4.5       0.0       0.0       0.0       2.0       0.0       0.0       0.0       0.0       0.0              4\n",
       "2,827  0.0   0.0   0.0   0.0    0.0    0.0    2.0    0.0    0.0    0.0    0.0    0.0    0.0    0.0    0.0    0.0    0.0    0.0    0.0    0.0    0.0    5.0    0.0    0.0    0.0    0.0    0.0    4.0    0.0    0.0    3.0    0.0    0.0    3.5    0.0    0.0    0.0    0.0    0.0    0.0    0.0    4.0    4.0    0.0     0.0     0.0     0.0     0.0     5.0     4.0     0.0     0.0     0.0     0.0     0.0     0.0     1.0     0.0     0.0     0.0     3.5     5.0     0.0     0.0     0.0     0.0     0.0     2.0     0.0     0.0     0.0     0.0     3.5     0.0     0.0     0.0     0.0     0.0     0.0     3.0     0.0     0.0     0.0     0.0     0.0     0.0     0.0     0.0     0.0     4.5     0.0     0.0     0.0     0.0     0.0     0.0     0.0     0.0     0.0     0.0     ...    0.0       0.0       5.0       0.0       0.0       0.0       0.0       0.0       0.0       0.0       0.0       0.0       0.0       0.0       4.5       4.5       3.0       0.0       0.0       4.0       0.0       0.0       4.0       0.0       0.0       0.0       4.5       0.0       0.0       0.0       0.0       0.0       5.0       0.0       3.5       0.0       0.0       0.0       0.0       0.0       3.5       0.0       0.0       0.0       4.5       3.5       0.0       0.0       0.0       0.0       4.0       0.0       0.0       3.0       0.0       0.0       0.0       0.0       0.0       0.0       2.0       0.0       0.0       0.0       4.0       0.0       3.0       0.0       4.5       2.5       2.5       0.0       3.0       0.0       3.0       0.0       0.0       0.0       0.0       0.0       0.0       5.0       0.0       0.0       0.0       0.0       0.0       0.0       0.0       3.5       0.0       4.5       0.0       0.0       3.0       0.0       0.0       0.0       3.0"
      ]
     },
     "execution_count": 39,
     "metadata": {},
     "output_type": "execute_result"
    }
   ],
   "source": [
    "%%time\n",
    "df = vx.open('recomderData.hdf5')\n",
    "df"
   ]
  },
  {
   "cell_type": "markdown",
   "id": "cddfd42c-bb95-4797-845a-1b89f1cd3d05",
   "metadata": {},
   "source": [
    "## Predict similar movies when one movie is provided using cosine similarity"
   ]
  },
  {
   "cell_type": "code",
   "execution_count": 41,
   "id": "c288d3e8-fce3-45ee-bc16-11a77ec5e2f2",
   "metadata": {},
   "outputs": [],
   "source": [
    "movieSimilarity = cosine_similarity(finalDf)"
   ]
  },
  {
   "cell_type": "code",
   "execution_count": 60,
   "id": "c2b65868-be93-4fa8-9a9d-2e033745eaf0",
   "metadata": {},
   "outputs": [],
   "source": [
    "def getSimilarMovie(movieNo):\n",
    "    a=sorted(list(enumerate(movieSimilarity[movieNo])),key= lambda x:x[1], reverse=True)[1:6]\n",
    "    l=[]\n",
    "    for i in a:\n",
    "        l.append(finalDf.index[i[0]])\n",
    "    return l"
   ]
  },
  {
   "cell_type": "code",
   "execution_count": 80,
   "id": "99253a18-6d88-4bf3-aac1-33428b193a10",
   "metadata": {},
   "outputs": [],
   "source": [
    "pd.DataFrame(movieSimilarity).to_csv('cosineSimilarityMovie.csv')"
   ]
  },
  {
   "cell_type": "code",
   "execution_count": 61,
   "id": "2bd2184a-9acb-4d45-a117-6d39c1300b26",
   "metadata": {},
   "outputs": [
    {
     "data": {
      "text/plain": [
       "[289, 935, 275, 238, 567]"
      ]
     },
     "execution_count": 61,
     "metadata": {},
     "output_type": "execute_result"
    }
   ],
   "source": [
    "getSimilarMovie(5)"
   ]
  },
  {
   "cell_type": "code",
   "execution_count": 78,
   "id": "12d7817a-5d80-4997-a12b-edf5257b9534",
   "metadata": {},
   "outputs": [],
   "source": [
    "pURL = \"https://api.themoviedb.org/3/movie/\"\n",
    "endUrl = \"?api_key=\"+config.apiKey+\"&language=en-US\"\n",
    "URL = pURL+str(935)+endUrl\n",
    "r = requests.get(url = URL)\n",
    "data = r.json()\n",
    "iUrl =\"http://image.tmdb.org/t/p/w500\"+data['poster_path']\n",
    "ir = requests.get(url=iUrl,stream=True)\n",
    "with open('img.jpg', 'wb') as out_file:\n",
    "    shutil.copyfileobj(ir.raw, out_file)"
   ]
  },
  {
   "cell_type": "markdown",
   "id": "96eb9736-41d0-4913-b1a6-cf52827219c9",
   "metadata": {},
   "source": [
    "## Using NN for describing movie content"
   ]
  },
  {
   "cell_type": "code",
   "execution_count": null,
   "id": "b04ad3bd-7116-4a08-b77e-ac16e937ed6a",
   "metadata": {},
   "outputs": [],
   "source": []
  }
 ],
 "metadata": {
  "kernelspec": {
   "display_name": "Python 3 (ipykernel)",
   "language": "python",
   "name": "python3"
  },
  "language_info": {
   "codemirror_mode": {
    "name": "ipython",
    "version": 3
   },
   "file_extension": ".py",
   "mimetype": "text/x-python",
   "name": "python",
   "nbconvert_exporter": "python",
   "pygments_lexer": "ipython3",
   "version": "3.9.12"
  },
  "vscode": {
   "interpreter": {
    "hash": "e56f9f333e7df513e81a3e603faa25f767966de2ce67f6dddc491476f8cb73c5"
   }
  }
 },
 "nbformat": 4,
 "nbformat_minor": 5
}
